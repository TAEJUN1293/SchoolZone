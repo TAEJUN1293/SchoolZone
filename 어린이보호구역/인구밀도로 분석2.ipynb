{
 "cells": [
  {
   "cell_type": "code",
   "execution_count": 110,
   "id": "4b373cc4",
   "metadata": {},
   "outputs": [],
   "source": [
    "import pandas as pd\n",
    "import numpy as np\n",
    "from datetime import time\n",
    "import math\n",
    "import folium\n",
    "# 시각화 라이브러리\n",
    "import matplotlib.pyplot as plt\n",
    "from matplotlib import font_manager, rc\n",
    "font_name = font_manager.FontProperties(fname=\"c:/Windows/Fonts/malgun.ttf\").get_name()\n",
    "rc('font', family=font_name)\n",
    "import seaborn as sns\n",
    "%matplotlib inline"
   ]
  },
  {
   "cell_type": "code",
   "execution_count": 111,
   "id": "9162ee74",
   "metadata": {},
   "outputs": [],
   "source": [
    "df = pd.read_excel('C:/Users/wnrrh/desktop/data/test.xlsx',header=0)"
   ]
  },
  {
   "cell_type": "code",
   "execution_count": 112,
   "id": "37d347c3",
   "metadata": {},
   "outputs": [
    {
     "data": {
      "text/plain": [
       "\"\\n# 파생변수 만들기\\n\\nfrom haversine import haversine\\n\\n# 시간대 관련\\ndf['오전/오후'] = df['시간대구분'].apply(lambda x: 1 if (12<=x<=23) else 0)\\ndf['등하교시간'] = df['시간대구분'].apply(lambda x: 1 if (7<=x<=9) | (13<=x<=17) else 0)\\ndf['출퇴근시간'] = df['시간대구분'].apply(lambda x: 1 if (7<=x<=10) | (17<=x<=19) else 0)\\n\\n# 속도 관련\\ndf['속도준수여부'] = df['속도'].apply(lambda x:1 if x<=30 else 0)\\n\\n# CCTV 관련\\ndf.loc[df['CCTV 수'] == 0, 'CCTV설치여부'] = 0\\ndf.loc[df['CCTV 수'] > 0, 'CCTV설치여부'] = 1\\n\\n# 점심시간, 일출/일몰 , \\n\\ndf['어린이 피해 여부'] = df['피해운전자 연령'].apply(lambda)\""
      ]
     },
     "execution_count": 112,
     "metadata": {},
     "output_type": "execute_result"
    }
   ],
   "source": [
    "'''\n",
    "# 파생변수 만들기\n",
    "\n",
    "from haversine import haversine\n",
    "\n",
    "# 시간대 관련\n",
    "df['오전/오후'] = df['시간대구분'].apply(lambda x: 1 if (12<=x<=23) else 0)\n",
    "df['등하교시간'] = df['시간대구분'].apply(lambda x: 1 if (7<=x<=9) | (13<=x<=17) else 0)\n",
    "df['출퇴근시간'] = df['시간대구분'].apply(lambda x: 1 if (7<=x<=10) | (17<=x<=19) else 0)\n",
    "\n",
    "# 속도 관련\n",
    "df['속도준수여부'] = df['속도'].apply(lambda x:1 if x<=30 else 0)\n",
    "\n",
    "# CCTV 관련\n",
    "df.loc[df['CCTV 수'] == 0, 'CCTV설치여부'] = 0\n",
    "df.loc[df['CCTV 수'] > 0, 'CCTV설치여부'] = 1\n",
    "\n",
    "# 점심시간, 일출/일몰 , \n",
    "\n",
    "df['어린이 피해 여부'] = df['피해운전자 연령'].apply(lambda)'''"
   ]
  },
  {
   "cell_type": "code",
   "execution_count": 113,
   "id": "319264ec",
   "metadata": {},
   "outputs": [],
   "source": [
    "columns = ['시설명','자치구','행정동','행정동 별 인구','면적_km','인구밀도','시간대구분','주소','도로명',\n",
    "          '시설종류','구역지정수','보호구역도로폭','CCTV설치여부','CCTV 수','도로표지판 수','과속방지턱 수',\n",
    "          '위도','경도','tmp','속도','총생활인구수','사망자수','중상자수','경상자수','부상신고자수','가해운전자 차종',\n",
    "          '피해운전자 차종','피해운전자 연령','사고 수','통행량 도로명','통행량','오전/오후','등하교시간','출퇴근시간',\n",
    "          '속도준수여부','주변보호구역유무']\n",
    "df.columns = columns"
   ]
  },
  {
   "cell_type": "code",
   "execution_count": 114,
   "id": "25d0cbf5",
   "metadata": {},
   "outputs": [],
   "source": [
    "# 위험도 산정\n",
    "df['위험도'] = 0\n",
    "for i in range(len(df)):\n",
    "    df.loc[i,'위험도'] = (((df.loc[i,'사망자수'] + df.loc[i,'중상자수']*0.7 + df.loc[i,'경상자수']*0.3 + df.loc[i,'부상신고자수']*0.3))*0.75+(df.loc[i,'통행량'])*0.25) "
   ]
  },
  {
   "cell_type": "code",
   "execution_count": 115,
   "id": "063c7f2b",
   "metadata": {},
   "outputs": [
    {
     "data": {
      "text/plain": [
       "\"def MinMax(x):\\n    _max = x.max()\\n    _min = x.min()\\n    _denominator = _max - _min\\n    return (x- _min) / _denominator\\ndf['위험도'] = MinMax(df['위험도'])\""
      ]
     },
     "execution_count": 115,
     "metadata": {},
     "output_type": "execute_result"
    }
   ],
   "source": [
    "'''def MinMax(x):\n",
    "    _max = x.max()\n",
    "    _min = x.min()\n",
    "    _denominator = _max - _min\n",
    "    return (x- _min) / _denominator\n",
    "df['위험도'] = MinMax(df['위험도'])'''"
   ]
  },
  {
   "cell_type": "code",
   "execution_count": 116,
   "id": "b2503f33",
   "metadata": {},
   "outputs": [
    {
     "name": "stderr",
     "output_type": "stream",
     "text": [
      "C:\\Users\\wnrrh\\anaconda3\\lib\\site-packages\\seaborn\\distributions.py:2557: FutureWarning: `distplot` is a deprecated function and will be removed in a future version. Please adapt your code to use either `displot` (a figure-level function with similar flexibility) or `histplot` (an axes-level function for histograms).\n",
      "  warnings.warn(msg, FutureWarning)\n"
     ]
    },
    {
     "data": {
      "text/plain": [
       "Text(0.5, 1.0, '위험도 분포')"
      ]
     },
     "execution_count": 116,
     "metadata": {},
     "output_type": "execute_result"
    },
    {
     "data": {
      "image/png": "[encoded data removed]",
      "text/plain": [
       "<Figure size 576x360 with 1 Axes>"
      ]
     },
     "metadata": {
      "needs_background": "light"
     },
     "output_type": "display_data"
    }
   ],
   "source": [
    "# 산정한 위험도 분포\n",
    "plt.figure(figsize=(8,5))\n",
    "sns.distplot(df['위험도'])\n",
    "plt.title('위험도 분포',fontdict={'fontsize':15})"
   ]
  },
  {
   "cell_type": "code",
   "execution_count": 117,
   "id": "0ab3eeca",
   "metadata": {},
   "outputs": [
    {
     "data": {
      "text/plain": [
       "count    36240.000000\n",
       "mean         0.071240\n",
       "std          0.099054\n",
       "min          0.000000\n",
       "25%          0.030621\n",
       "50%          0.053803\n",
       "75%          0.075087\n",
       "max          4.017382\n",
       "Name: 위험도, dtype: float64"
      ]
     },
     "execution_count": 117,
     "metadata": {},
     "output_type": "execute_result"
    }
   ],
   "source": [
    "df['위험도'].describe()"
   ]
  },
  {
   "cell_type": "code",
   "execution_count": 118,
   "id": "4f27f5c3",
   "metadata": {},
   "outputs": [],
   "source": [
    "## k-means clustering\n",
    "from sklearn.cluster import KMeans\n",
    "features = ['위험도']\n",
    "\n",
    "X = df[features]\n",
    "X_train = pd.get_dummies(X)\n",
    "\n",
    "model = KMeans(n_clusters=3, random_state=0)\n",
    "model.fit(X_train)\n",
    "y_pred = model.labels_\n",
    "\n",
    "df['cluster_label'] = y_pred"
   ]
  },
  {
   "cell_type": "code",
   "execution_count": 119,
   "id": "3caba43c",
   "metadata": {},
   "outputs": [
    {
     "data": {
      "image/png": "[encoded data removed]",
      "text/plain": [
       "<Figure size 504x432 with 1 Axes>"
      ]
     },
     "metadata": {
      "needs_background": "light"
     },
     "output_type": "display_data"
    }
   ],
   "source": [
    "# 군집 수 확인 \n",
    "inertia_list = []\n",
    "for k in range(1,11):\n",
    "    model = KMeans(n_clusters=k)\n",
    "    model.fit(X)\n",
    "    inertia_list.append(model.inertia_)\n",
    "plt.figure(figsize=(7,6))\n",
    "plt.plot(range(1,11), inertia_list, marker='o')\n",
    "plt.xlabel(\"그룹 수\")\n",
    "plt.ylabel(\"inertia 값\")\n",
    "plt.show()"
   ]
  },
  {
   "cell_type": "code",
   "execution_count": 120,
   "id": "c55cd7ca",
   "metadata": {},
   "outputs": [
    {
     "data": {
      "text/plain": [
       "<matplotlib.collections.PathCollection at 0x23785c61a60>"
      ]
     },
     "execution_count": 120,
     "metadata": {},
     "output_type": "execute_result"
    },
    {
     "data": {
      "image/png": "[encoded data removed]",
      "text/plain": [
       "<Figure size 432x288 with 1 Axes>"
      ]
     },
     "metadata": {
      "needs_background": "light"
     },
     "output_type": "display_data"
    }
   ],
   "source": [
    "plt.scatter(x = df[\"시간대구분\"], y = df[\"위험도\"], c=y_pred)"
   ]
  },
  {
   "cell_type": "code",
   "execution_count": 121,
   "id": "e154d71e",
   "metadata": {
    "scrolled": true
   },
   "outputs": [
    {
     "name": "stdout",
     "output_type": "stream",
     "text": [
      "-0.010423934158219655\n",
      "-0.0030142643614555972\n",
      "0.013531974515567615\n"
     ]
    }
   ],
   "source": [
    "print(df['총생활인구수'].corr(df['위험도']))\n",
    "print(df['인구밀도'].corr(df['위험도']))\n",
    "print(df['인구밀도'].corr(df['사고 수']))"
   ]
  },
  {
   "cell_type": "code",
   "execution_count": 122,
   "id": "bb42153c",
   "metadata": {},
   "outputs": [
    {
     "data": {
      "image/png": "[encoded data removed]",
      "text/plain": [
       "<Figure size 576x360 with 1 Axes>"
      ]
     },
     "metadata": {
      "needs_background": "light"
     },
     "output_type": "display_data"
    }
   ],
   "source": [
    "# 클러스터링 결과 시각화\n",
    "plt.figure(figsize = (8,5))\n",
    "sns.lineplot(data=df[df['cluster_label']==0],x='시간대구분', y='위험도', ci=None, label='위험도 1단계')\n",
    "sns.lineplot(data=df[df['cluster_label']==1],x='시간대구분', y='위험도', ci=None, label='위험도 2단계')\n",
    "sns.lineplot(data=df[df['cluster_label']==2],x='시간대구분', y='위험도', ci=None, label='위험도 3단계')\n",
    "# sns.lineplot(data=df[df['cluster_label']==3],x='시간대구분', y='위험도', ci=None, label='위험도 4단계')\n",
    "plt.title('시간에 따른 보호구역 위험도',fontdict = {'fontsize':15})\n",
    "plt.legend()\n",
    "plt.show()"
   ]
  },
  {
   "cell_type": "code",
   "execution_count": 123,
   "id": "f695a0e5",
   "metadata": {},
   "outputs": [],
   "source": [
    "df['위험도 군집'] = df['cluster_label'].apply(lambda x :1 if x==0 else (2 if x==1 else 3 ))"
   ]
  },
  {
   "cell_type": "code",
   "execution_count": null,
   "id": "33df8dda",
   "metadata": {},
   "outputs": [],
   "source": []
  },
  {
   "cell_type": "code",
   "execution_count": 124,
   "id": "2abcf6b0",
   "metadata": {},
   "outputs": [],
   "source": [
    "# dtype 변환\n",
    "df.dtypes\n",
    "\n",
    "df['구역지정수'] = df['구역지정수'].astype('float')\n",
    "df['CCTV설치여부'] = df['CCTV설치여부'].astype('float')\n",
    "df['과속방지턱 수'] = df['과속방지턱 수'].astype('float')\n",
    "df['사고 수'] = df['사고 수'].astype('float')\n",
    "df['오전/오후'] = df['오전/오후'].astype('float')\n",
    "df['등하교시간'] = df['등하교시간'].astype('float')\n",
    "df['출퇴근시간'] = df['출퇴근시간'].astype('float')\n",
    "df['속도준수여부'] = df['속도준수여부'].astype('float')\n",
    "df['CCTV 수'] = df['CCTV 수'].astype('float')\n",
    "df['시간대구분'] = df['시간대구분'].astype('float')\n",
    "df['행정동 별 인구'] = df['행정동 별 인구'].astype('float')\n",
    "df['인구밀도'] = df['인구밀도'].astype('float')"
   ]
  },
  {
   "cell_type": "code",
   "execution_count": 125,
   "id": "39d1aa85",
   "metadata": {},
   "outputs": [],
   "source": [
    "df = df.astype({'위험도 군집' : 'float'})"
   ]
  },
  {
   "cell_type": "code",
   "execution_count": 126,
   "id": "856a444b",
   "metadata": {
    "scrolled": true
   },
   "outputs": [
    {
     "data": {
      "text/html": [
       "<div>\n",
       "<style scoped>\n",
       "    .dataframe tbody tr th:only-of-type {\n",
       "        vertical-align: middle;\n",
       "    }\n",
       "\n",
       "    .dataframe tbody tr th {\n",
       "        vertical-align: top;\n",
       "    }\n",
       "\n",
       "    .dataframe thead th {\n",
       "        text-align: right;\n",
       "    }\n",
       "</style>\n",
       "<table border=\"1\" class=\"dataframe\">\n",
       "  <thead>\n",
       "    <tr style=\"text-align: right;\">\n",
       "      <th></th>\n",
       "      <th>시설명</th>\n",
       "      <th>자치구</th>\n",
       "      <th>행정동</th>\n",
       "      <th>행정동 별 인구</th>\n",
       "      <th>면적_km</th>\n",
       "      <th>인구밀도</th>\n",
       "      <th>시간대구분</th>\n",
       "      <th>주소</th>\n",
       "      <th>도로명</th>\n",
       "      <th>시설종류</th>\n",
       "      <th>...</th>\n",
       "      <th>통행량 도로명</th>\n",
       "      <th>통행량</th>\n",
       "      <th>오전/오후</th>\n",
       "      <th>등하교시간</th>\n",
       "      <th>출퇴근시간</th>\n",
       "      <th>속도준수여부</th>\n",
       "      <th>주변보호구역유무</th>\n",
       "      <th>위험도</th>\n",
       "      <th>cluster_label</th>\n",
       "      <th>위험도 군집</th>\n",
       "    </tr>\n",
       "  </thead>\n",
       "  <tbody>\n",
       "    <tr>\n",
       "      <th>0</th>\n",
       "      <td>덕수유치원</td>\n",
       "      <td>성북구</td>\n",
       "      <td>성북동</td>\n",
       "      <td>17404.0</td>\n",
       "      <td>2.86</td>\n",
       "      <td>6085.0</td>\n",
       "      <td>3.0</td>\n",
       "      <td>서울특별시 성북구 성북로 127 (성북동)</td>\n",
       "      <td>성북로</td>\n",
       "      <td>유치원(일반)</td>\n",
       "      <td>...</td>\n",
       "      <td>대사관로(삼청터널)</td>\n",
       "      <td>0.000000</td>\n",
       "      <td>0.0</td>\n",
       "      <td>0.0</td>\n",
       "      <td>0.0</td>\n",
       "      <td>0.0</td>\n",
       "      <td>1</td>\n",
       "      <td>0.000000</td>\n",
       "      <td>0</td>\n",
       "      <td>1.0</td>\n",
       "    </tr>\n",
       "    <tr>\n",
       "      <th>1</th>\n",
       "      <td>서울다원학교</td>\n",
       "      <td>성북구</td>\n",
       "      <td>성북동</td>\n",
       "      <td>17404.0</td>\n",
       "      <td>2.86</td>\n",
       "      <td>6085.0</td>\n",
       "      <td>3.0</td>\n",
       "      <td>서울특별시 성북구 성북로31길 5-15 (성북동)</td>\n",
       "      <td>성북로31길</td>\n",
       "      <td>특수학교</td>\n",
       "      <td>...</td>\n",
       "      <td>대사관로(삼청터널)</td>\n",
       "      <td>0.000000</td>\n",
       "      <td>0.0</td>\n",
       "      <td>0.0</td>\n",
       "      <td>0.0</td>\n",
       "      <td>0.0</td>\n",
       "      <td>1</td>\n",
       "      <td>0.000000</td>\n",
       "      <td>0</td>\n",
       "      <td>1.0</td>\n",
       "    </tr>\n",
       "    <tr>\n",
       "      <th>2</th>\n",
       "      <td>덕수유치원</td>\n",
       "      <td>성북구</td>\n",
       "      <td>성북동</td>\n",
       "      <td>17404.0</td>\n",
       "      <td>2.86</td>\n",
       "      <td>6085.0</td>\n",
       "      <td>2.0</td>\n",
       "      <td>서울특별시 성북구 성북로 127 (성북동)</td>\n",
       "      <td>성북로</td>\n",
       "      <td>유치원(일반)</td>\n",
       "      <td>...</td>\n",
       "      <td>대사관로(삼청터널)</td>\n",
       "      <td>0.000284</td>\n",
       "      <td>0.0</td>\n",
       "      <td>0.0</td>\n",
       "      <td>0.0</td>\n",
       "      <td>0.0</td>\n",
       "      <td>1</td>\n",
       "      <td>0.000071</td>\n",
       "      <td>0</td>\n",
       "      <td>1.0</td>\n",
       "    </tr>\n",
       "    <tr>\n",
       "      <th>3</th>\n",
       "      <td>서울다원학교</td>\n",
       "      <td>성북구</td>\n",
       "      <td>성북동</td>\n",
       "      <td>17404.0</td>\n",
       "      <td>2.86</td>\n",
       "      <td>6085.0</td>\n",
       "      <td>2.0</td>\n",
       "      <td>서울특별시 성북구 성북로31길 5-15 (성북동)</td>\n",
       "      <td>성북로31길</td>\n",
       "      <td>특수학교</td>\n",
       "      <td>...</td>\n",
       "      <td>대사관로(삼청터널)</td>\n",
       "      <td>0.000284</td>\n",
       "      <td>0.0</td>\n",
       "      <td>0.0</td>\n",
       "      <td>0.0</td>\n",
       "      <td>0.0</td>\n",
       "      <td>1</td>\n",
       "      <td>0.000071</td>\n",
       "      <td>0</td>\n",
       "      <td>1.0</td>\n",
       "    </tr>\n",
       "    <tr>\n",
       "      <th>4</th>\n",
       "      <td>서울후암초등학교</td>\n",
       "      <td>용산구</td>\n",
       "      <td>후암동</td>\n",
       "      <td>18202.0</td>\n",
       "      <td>0.86</td>\n",
       "      <td>21165.0</td>\n",
       "      <td>3.0</td>\n",
       "      <td>서울특별시 용산구 두텁바위로 140</td>\n",
       "      <td>두텁바위로</td>\n",
       "      <td>초등학교</td>\n",
       "      <td>...</td>\n",
       "      <td>소파로(숭의여자대학교)</td>\n",
       "      <td>0.000860</td>\n",
       "      <td>0.0</td>\n",
       "      <td>0.0</td>\n",
       "      <td>0.0</td>\n",
       "      <td>0.0</td>\n",
       "      <td>1</td>\n",
       "      <td>0.000215</td>\n",
       "      <td>0</td>\n",
       "      <td>1.0</td>\n",
       "    </tr>\n",
       "    <tr>\n",
       "      <th>...</th>\n",
       "      <td>...</td>\n",
       "      <td>...</td>\n",
       "      <td>...</td>\n",
       "      <td>...</td>\n",
       "      <td>...</td>\n",
       "      <td>...</td>\n",
       "      <td>...</td>\n",
       "      <td>...</td>\n",
       "      <td>...</td>\n",
       "      <td>...</td>\n",
       "      <td>...</td>\n",
       "      <td>...</td>\n",
       "      <td>...</td>\n",
       "      <td>...</td>\n",
       "      <td>...</td>\n",
       "      <td>...</td>\n",
       "      <td>...</td>\n",
       "      <td>...</td>\n",
       "      <td>...</td>\n",
       "      <td>...</td>\n",
       "      <td>...</td>\n",
       "    </tr>\n",
       "    <tr>\n",
       "      <th>36235</th>\n",
       "      <td>서울우신초등학교</td>\n",
       "      <td>영등포구</td>\n",
       "      <td>신길4동</td>\n",
       "      <td>12974.0</td>\n",
       "      <td>0.38</td>\n",
       "      <td>34142.0</td>\n",
       "      <td>14.0</td>\n",
       "      <td>서울특별시 영등포구 신길로 190 (신길동)</td>\n",
       "      <td>신길로</td>\n",
       "      <td>초등학교</td>\n",
       "      <td>...</td>\n",
       "      <td>경인로(서울교)</td>\n",
       "      <td>0.375869</td>\n",
       "      <td>1.0</td>\n",
       "      <td>1.0</td>\n",
       "      <td>0.0</td>\n",
       "      <td>1.0</td>\n",
       "      <td>1</td>\n",
       "      <td>0.543967</td>\n",
       "      <td>2</td>\n",
       "      <td>3.0</td>\n",
       "    </tr>\n",
       "    <tr>\n",
       "      <th>36236</th>\n",
       "      <td>선희유치원</td>\n",
       "      <td>도봉구</td>\n",
       "      <td>쌍문4동</td>\n",
       "      <td>19297.0</td>\n",
       "      <td>0.52</td>\n",
       "      <td>37110.0</td>\n",
       "      <td>20.0</td>\n",
       "      <td>서울특별시 도봉구 해등로 241 (쌍문동)</td>\n",
       "      <td>해등로</td>\n",
       "      <td>유치원(일반)</td>\n",
       "      <td>...</td>\n",
       "      <td>도봉로(쌍문역)</td>\n",
       "      <td>0.139611</td>\n",
       "      <td>1.0</td>\n",
       "      <td>0.0</td>\n",
       "      <td>0.0</td>\n",
       "      <td>1.0</td>\n",
       "      <td>1</td>\n",
       "      <td>1.834903</td>\n",
       "      <td>2</td>\n",
       "      <td>3.0</td>\n",
       "    </tr>\n",
       "    <tr>\n",
       "      <th>36237</th>\n",
       "      <td>서울강서초등학교</td>\n",
       "      <td>양천구</td>\n",
       "      <td>신월4동</td>\n",
       "      <td>18487.0</td>\n",
       "      <td>0.52</td>\n",
       "      <td>35552.0</td>\n",
       "      <td>19.0</td>\n",
       "      <td>서울특별시 양천구 오목로 31 (신월동)</td>\n",
       "      <td>오목로</td>\n",
       "      <td>초등학교</td>\n",
       "      <td>...</td>\n",
       "      <td>남부순환로(신월IC)</td>\n",
       "      <td>0.339756</td>\n",
       "      <td>1.0</td>\n",
       "      <td>0.0</td>\n",
       "      <td>1.0</td>\n",
       "      <td>1.0</td>\n",
       "      <td>1</td>\n",
       "      <td>1.809939</td>\n",
       "      <td>2</td>\n",
       "      <td>3.0</td>\n",
       "    </tr>\n",
       "    <tr>\n",
       "      <th>36238</th>\n",
       "      <td>신길에덴유치원</td>\n",
       "      <td>영등포구</td>\n",
       "      <td>신길4동</td>\n",
       "      <td>12974.0</td>\n",
       "      <td>0.38</td>\n",
       "      <td>34142.0</td>\n",
       "      <td>15.0</td>\n",
       "      <td>서울특별시 영등포구 신길로38길 21 (신길동)</td>\n",
       "      <td>신길로38길</td>\n",
       "      <td>유치원(일반)</td>\n",
       "      <td>...</td>\n",
       "      <td>경인로(서울교)</td>\n",
       "      <td>0.371547</td>\n",
       "      <td>1.0</td>\n",
       "      <td>1.0</td>\n",
       "      <td>0.0</td>\n",
       "      <td>1.0</td>\n",
       "      <td>1</td>\n",
       "      <td>0.767887</td>\n",
       "      <td>2</td>\n",
       "      <td>3.0</td>\n",
       "    </tr>\n",
       "    <tr>\n",
       "      <th>36239</th>\n",
       "      <td>서울숭미초등학교</td>\n",
       "      <td>도봉구</td>\n",
       "      <td>쌍문3동</td>\n",
       "      <td>16922.0</td>\n",
       "      <td>0.50</td>\n",
       "      <td>33844.0</td>\n",
       "      <td>16.0</td>\n",
       "      <td>서울특별시 도봉구 노해로 179 (쌍문동)</td>\n",
       "      <td>노해로</td>\n",
       "      <td>초등학교</td>\n",
       "      <td>...</td>\n",
       "      <td>도봉로(쌍문역)</td>\n",
       "      <td>0.169527</td>\n",
       "      <td>1.0</td>\n",
       "      <td>1.0</td>\n",
       "      <td>0.0</td>\n",
       "      <td>1.0</td>\n",
       "      <td>1</td>\n",
       "      <td>4.017382</td>\n",
       "      <td>2</td>\n",
       "      <td>3.0</td>\n",
       "    </tr>\n",
       "  </tbody>\n",
       "</table>\n",
       "<p>36240 rows × 39 columns</p>\n",
       "</div>"
      ],
      "text/plain": [
       "            시설명   자치구   행정동  행정동 별 인구  면적_km     인구밀도  시간대구분  \\\n",
       "0         덕수유치원   성북구   성북동   17404.0   2.86   6085.0    3.0   \n",
       "1        서울다원학교   성북구   성북동   17404.0   2.86   6085.0    3.0   \n",
       "2         덕수유치원   성북구   성북동   17404.0   2.86   6085.0    2.0   \n",
       "3        서울다원학교   성북구   성북동   17404.0   2.86   6085.0    2.0   \n",
       "4      서울후암초등학교   용산구   후암동   18202.0   0.86  21165.0    3.0   \n",
       "...         ...   ...   ...       ...    ...      ...    ...   \n",
       "36235  서울우신초등학교  영등포구  신길4동   12974.0   0.38  34142.0   14.0   \n",
       "36236     선희유치원   도봉구  쌍문4동   19297.0   0.52  37110.0   20.0   \n",
       "36237  서울강서초등학교   양천구  신월4동   18487.0   0.52  35552.0   19.0   \n",
       "36238   신길에덴유치원  영등포구  신길4동   12974.0   0.38  34142.0   15.0   \n",
       "36239  서울숭미초등학교   도봉구  쌍문3동   16922.0   0.50  33844.0   16.0   \n",
       "\n",
       "                                주소     도로명     시설종류  ...       통행량 도로명  \\\n",
       "0          서울특별시 성북구 성북로 127 (성북동)     성북로  유치원(일반)  ...    대사관로(삼청터널)   \n",
       "1      서울특별시 성북구 성북로31길 5-15 (성북동)  성북로31길     특수학교  ...    대사관로(삼청터널)   \n",
       "2          서울특별시 성북구 성북로 127 (성북동)     성북로  유치원(일반)  ...    대사관로(삼청터널)   \n",
       "3      서울특별시 성북구 성북로31길 5-15 (성북동)  성북로31길     특수학교  ...    대사관로(삼청터널)   \n",
       "4             서울특별시 용산구 두텁바위로 140    두텁바위로     초등학교  ...  소파로(숭의여자대학교)   \n",
       "...                            ...     ...      ...  ...           ...   \n",
       "36235     서울특별시 영등포구 신길로 190 (신길동)     신길로     초등학교  ...      경인로(서울교)   \n",
       "36236      서울특별시 도봉구 해등로 241 (쌍문동)     해등로  유치원(일반)  ...      도봉로(쌍문역)   \n",
       "36237       서울특별시 양천구 오목로 31 (신월동)     오목로     초등학교  ...   남부순환로(신월IC)   \n",
       "36238   서울특별시 영등포구 신길로38길 21 (신길동)  신길로38길  유치원(일반)  ...      경인로(서울교)   \n",
       "36239      서울특별시 도봉구 노해로 179 (쌍문동)     노해로     초등학교  ...      도봉로(쌍문역)   \n",
       "\n",
       "            통행량  오전/오후  등하교시간  출퇴근시간  속도준수여부  주변보호구역유무       위험도  \\\n",
       "0      0.000000    0.0    0.0    0.0     0.0         1  0.000000   \n",
       "1      0.000000    0.0    0.0    0.0     0.0         1  0.000000   \n",
       "2      0.000284    0.0    0.0    0.0     0.0         1  0.000071   \n",
       "3      0.000284    0.0    0.0    0.0     0.0         1  0.000071   \n",
       "4      0.000860    0.0    0.0    0.0     0.0         1  0.000215   \n",
       "...         ...    ...    ...    ...     ...       ...       ...   \n",
       "36235  0.375869    1.0    1.0    0.0     1.0         1  0.543967   \n",
       "36236  0.139611    1.0    0.0    0.0     1.0         1  1.834903   \n",
       "36237  0.339756    1.0    0.0    1.0     1.0         1  1.809939   \n",
       "36238  0.371547    1.0    1.0    0.0     1.0         1  0.767887   \n",
       "36239  0.169527    1.0    1.0    0.0     1.0         1  4.017382   \n",
       "\n",
       "      cluster_label  위험도 군집  \n",
       "0                 0     1.0  \n",
       "1                 0     1.0  \n",
       "2                 0     1.0  \n",
       "3                 0     1.0  \n",
       "4                 0     1.0  \n",
       "...             ...     ...  \n",
       "36235             2     3.0  \n",
       "36236             2     3.0  \n",
       "36237             2     3.0  \n",
       "36238             2     3.0  \n",
       "36239             2     3.0  \n",
       "\n",
       "[36240 rows x 39 columns]"
      ]
     },
     "execution_count": 126,
     "metadata": {},
     "output_type": "execute_result"
    }
   ],
   "source": [
    "df"
   ]
  },
  {
   "cell_type": "code",
   "execution_count": 127,
   "id": "699723d0",
   "metadata": {},
   "outputs": [],
   "source": [
    "# 입력 변수 생성\n",
    "features = df.columns\n",
    "X = df[features].drop(['시설명','주소','사망자수','부상신고자수','중상자수','도로명','행정동','자치구','위도','경도','총생활인구수',\n",
    "'cluster_label','경상자수','위험도 군집','위험도','tmp','위험도 군집','통행량','통행량 도로명'],axis=1)\n",
    "Y = df['위험도 군집']"
   ]
  },
  {
   "cell_type": "code",
   "execution_count": 128,
   "id": "4d852835",
   "metadata": {},
   "outputs": [],
   "source": [
    "# 랜덤포레스트 라이브러리\n",
    "from sklearn.model_selection import GridSearchCV, RandomizedSearchCV, cross_val_score\n",
    "from sklearn.pipeline import make_pipeline, Pipeline\n",
    "from sklearn.preprocessing import StandardScaler\n",
    "from sklearn.preprocessing import OneHotEncoder, LabelEncoder\n",
    "from sklearn.compose import ColumnTransformer\n",
    "from sklearn.metrics import make_scorer, precision_score, f1_score, recall_score, accuracy_score, average_precision_score # Evaluation\n",
    "from sklearn.metrics import precision_score, recall_score, classification_report\n",
    "from sklearn.ensemble import RandomForestClassifier\n",
    "from sklearn.model_selection import train_test_split\n",
    "from sklearn.datasets import make_moons\n",
    "from sklearn.ensemble import RandomForestRegressor"
   ]
  },
  {
   "cell_type": "code",
   "execution_count": 129,
   "id": "b317c331",
   "metadata": {},
   "outputs": [],
   "source": [
    "# 연속형 변수 \n",
    "numeric_features = X.select_dtypes(\"float\").columns.to_list()\n",
    "numeric_transformer = Pipeline(steps=[('scaler', StandardScaler())])\n",
    "\n",
    "# 범주형 변수 처리\n",
    "categorical_features = X.select_dtypes(\"object\").columns.to_list()\n",
    "categorical_transformer = Pipeline(steps=[('onehot', OneHotEncoder(handle_unknown='ignore'))])\n",
    "\n",
    "#컬럼 변환\n",
    "preprocessor = ColumnTransformer(\n",
    "    transformers=[\n",
    "        ('num', numeric_transformer, numeric_features)])\n",
    "        # ('cat', categorical_transformer, categorical_features)])\n"
   ]
  },
  {
   "cell_type": "code",
   "execution_count": 130,
   "id": "361a5f5b",
   "metadata": {},
   "outputs": [],
   "source": [
    "# Training / Test\n",
    "X_train, X_test, Y_train, Y_test = train_test_split(X, Y, test_size=0.2, random_state=0)\n",
    "Y_train = Y_train.astype('int')   "
   ]
  },
  {
   "cell_type": "code",
   "execution_count": 131,
   "id": "d4de9fdc",
   "metadata": {},
   "outputs": [
    {
     "name": "stdout",
     "output_type": "stream",
     "text": [
      "테스트 정확도: 0.9720\n"
     ]
    },
    {
     "data": {
      "image/png": "[encoded data removed]",
      "text/plain": [
       "<Figure size 720x720 with 1 Axes>"
      ]
     },
     "metadata": {
      "needs_background": "light"
     },
     "output_type": "display_data"
    }
   ],
   "source": [
    "# 랜덤 포레스트 변수 중요도\n",
    "\n",
    "# random forest pipeline\n",
    "pipe = make_pipeline(preprocessor,RandomForestClassifier(random_state=0))\n",
    "pipe.fit(X_train,Y_train)\n",
    "y_pred = pipe.predict(X_test)\n",
    "print('테스트 정확도: %.4f'% pipe.score(X_test,Y_test))\n",
    "\n",
    "# 변수 중요도\n",
    "rf = RandomForestClassifier(random_state=0)\n",
    "rf.fit(pd.get_dummies(X_train),Y_train)\n",
    "importances = rf.feature_importances_\n",
    "indices = np.argsort(importances)\n",
    "\n",
    "plt.figure(figsize=(10,10))\n",
    "plt.title('변수 중요도')\n",
    "plt.barh(range(len(indices)), importances[indices],color = 'tab:blue', align ='center')\n",
    "plt.yticks(range(len(indices)), [pd.get_dummies(X_train).columns[i] for i in indices])\n",
    "plt.xlabel('상대적 중요도')\n",
    "plt.show()\n",
    "\n"
   ]
  },
  {
   "cell_type": "code",
   "execution_count": 82,
   "id": "4374ea65",
   "metadata": {},
   "outputs": [
    {
     "data": {
      "text/plain": [
       "count    36240.000000\n",
       "mean         1.186119\n",
       "std          7.528026\n",
       "min          0.000000\n",
       "25%          0.000000\n",
       "50%          0.000000\n",
       "75%          0.000000\n",
       "max         91.000000\n",
       "Name: 피해운전자 연령, dtype: float64"
      ]
     },
     "execution_count": 82,
     "metadata": {},
     "output_type": "execute_result"
    }
   ],
   "source": [
    "df['피해운전자 연령'].describe()"
   ]
  },
  {
   "cell_type": "markdown",
   "id": "a91e07dc",
   "metadata": {},
   "source": [
    "SVM"
   ]
  },
  {
   "cell_type": "code",
   "execution_count": 86,
   "id": "e9f725be",
   "metadata": {},
   "outputs": [
    {
     "ename": "SyntaxError",
     "evalue": "invalid syntax (<ipython-input-86-6054cde069ab>, line 20)",
     "output_type": "error",
     "traceback": [
      "\u001b[1;36m  File \u001b[1;32m\"<ipython-input-86-6054cde069ab>\"\u001b[1;36m, line \u001b[1;32m20\u001b[0m\n\u001b[1;33m    n_jobs=-1)\u001b[0m\n\u001b[1;37m    ^\u001b[0m\n\u001b[1;31mSyntaxError\u001b[0m\u001b[1;31m:\u001b[0m invalid syntax\n"
     ]
    }
   ],
   "source": [
    "from sklearn.svm import SVC\n",
    "pipe_svm = make_pipeline(preprocessor,SVC())\n",
    "\n",
    "# Parameter list\n",
    "param_grid = [{'svc_C': [1,5,10,50,100],\n",
    "            'svc_gamma':[0.001,0.01,0.1,1],\n",
    "            'svc_kernel':['rbf']}]\n",
    "\n",
    "scores = {'accuracy':make_score(accuracy_score),\n",
    "         'precision': make_score(precision_score, average = 'macro'),\n",
    "         'recall':make_score(recall_score, average = 'macro'),\n",
    "         'f1_macro': make_score(f1_score, average ='macro'),\n",
    "          'f1_weighted':makre_score(f1_score, average='weighted')}\n",
    "# GridSearch\n",
    "gs_svm = GridSearchCV(estimator = pipe_svm,\n",
    "                     param_grid = param_grid,\n",
    "                      scoring = scorers,\n",
    "                      refit = 'f1_weighted',\n",
    "                      cv = 5 \n",
    "                        n_jobs=-1)\n",
    "\n",
    "gs_svm.fit(X_train,Y_train)\n",
    "print('최적 매개변수 조합 :%s' %gs_svm.best_params_)\n",
    "print('CV 정확도 : %4f'%gs_svm.best_score_)\n",
    "\n",
    "clf_svm = gs_svm.best_estimator_\n",
    "print('테스트 정확도: %3f'%clf_svm.score(X_test,Y_test))"
   ]
  },
  {
   "cell_type": "code",
   "execution_count": null,
   "id": "efbf0522",
   "metadata": {},
   "outputs": [],
   "source": []
  },
  {
   "cell_type": "code",
   "execution_count": null,
   "id": "ac37b34a",
   "metadata": {},
   "outputs": [],
   "source": []
  },
  {
   "cell_type": "code",
   "execution_count": null,
   "id": "12243779",
   "metadata": {},
   "outputs": [],
   "source": []
  },
  {
   "cell_type": "code",
   "execution_count": null,
   "id": "c23bc315",
   "metadata": {},
   "outputs": [],
   "source": [
    "# LightGBM\n",
    "from lightgbm import LGBMClassifier\n",
    "import lightgbm as lgb \n",
    "params = {'learning rate':0.05,\n",
    "          'max_depth': 10,\n",
    "          'num_iterations':1000,\n",
    "          'boosting_type':'gbdt',\n",
    "          'sub_feature':0.5,\n",
    "          'num_leaves' : 10,\n",
    "          'min_data':50,\n",
    "          'min_child_samples':20,\n",
    "          'subsample':0.8\n",
    "         }\n",
    "# 그리드서칭 시행할 하이퍼파라미터\n",
    "gridParams = {'max_depth':[3,5,7],\n",
    "            'learning rate':[0.01, 0.05, 0.1, 0.2]\n",
    "            'num_iteration':[1000]\n",
    "            'min_child_weight':[5,10,20]\n",
    "             }\n",
    "\n",
    "# 측도 다양하게 사용\n",
    "scores = {'accuracy': make_score(accuracy_score),\n",
    "         'precision': make_score(precision_score, average='macro')\n",
    "         \n",
    "         }"
   ]
  },
  {
   "cell_type": "code",
   "execution_count": 83,
   "id": "49d4ba27",
   "metadata": {},
   "outputs": [
    {
     "ename": "NameError",
     "evalue": "name 'lgb_model_GS' is not defined",
     "output_type": "error",
     "traceback": [
      "\u001b[1;31m---------------------------------------------------------------------------\u001b[0m",
      "\u001b[1;31mNameError\u001b[0m                                 Traceback (most recent call last)",
      "\u001b[1;32m<ipython-input-83-a00cdc840f57>\u001b[0m in \u001b[0;36m<module>\u001b[1;34m\u001b[0m\n\u001b[1;32m----> 1\u001b[1;33m \u001b[0mprint\u001b[0m\u001b[1;33m(\u001b[0m\u001b[0mclassification_report\u001b[0m\u001b[1;33m(\u001b[0m\u001b[0mY_test\u001b[0m\u001b[1;33m,\u001b[0m\u001b[0mlgb_model_GS\u001b[0m\u001b[1;33m.\u001b[0m\u001b[0mpredict\u001b[0m\u001b[1;33m(\u001b[0m\u001b[0mX_test\u001b[0m\u001b[1;33m)\u001b[0m\u001b[1;33m)\u001b[0m\u001b[1;33m)\u001b[0m\u001b[1;33m\u001b[0m\u001b[1;33m\u001b[0m\u001b[0m\n\u001b[0m",
      "\u001b[1;31mNameError\u001b[0m: name 'lgb_model_GS' is not defined"
     ]
    }
   ],
   "source": [
    "print(classification_report(Y_test,lgb_model_GS.predict(X_test)))"
   ]
  }
 ],
 "metadata": {
  "kernelspec": {
   "display_name": "Python 3",
   "language": "python",
   "name": "python3"
  },
  "language_info": {
   "codemirror_mode": {
    "name": "ipython",
    "version": 3
   },
   "file_extension": ".py",
   "mimetype": "text/x-python",
   "name": "python",
   "nbconvert_exporter": "python",
   "pygments_lexer": "ipython3",
   "version": "3.8.8"
  }
 },
 "nbformat": 4,
 "nbformat_minor": 5
}
