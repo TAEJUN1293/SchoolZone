{
 "cells": [
  {
   "cell_type": "code",
   "execution_count": 5,
   "id": "f85d5afd",
   "metadata": {},
   "outputs": [
    {
     "name": "stdout",
     "output_type": "stream",
     "text": [
      "Happy BDAY\n",
      "Love You\n"
     ]
    }
   ],
   "source": [
    "class Birthday:\n",
    "    def message(self):\n",
    "        print(\"Happy BDAY\")\n",
    "        print(\"Love You\")\n",
    "bing = Birthday()\n",
    "bing.message()"
   ]
  },
  {
   "cell_type": "code",
   "execution_count": null,
   "id": "f0bd5218",
   "metadata": {},
   "outputs": [],
   "source": []
  }
 ],
 "metadata": {
  "kernelspec": {
   "display_name": "Python 3",
   "language": "python",
   "name": "python3"
  },
  "language_info": {
   "codemirror_mode": {
    "name": "ipython",
    "version": 3
   },
   "file_extension": ".py",
   "mimetype": "text/x-python",
   "name": "python",
   "nbconvert_exporter": "python",
   "pygments_lexer": "ipython3",
   "version": "3.8.8"
  }
 },
 "nbformat": 4,
 "nbformat_minor": 5
}
