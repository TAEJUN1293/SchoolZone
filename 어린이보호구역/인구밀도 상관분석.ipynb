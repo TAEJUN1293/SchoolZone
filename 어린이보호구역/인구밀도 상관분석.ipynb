{
 "cells": [
  {
   "cell_type": "code",
   "execution_count": 99,
   "id": "8498c2f9",
   "metadata": {},
   "outputs": [],
   "source": [
    "import pandas as pd\n",
    "import numpy as np\n",
    "from datetime import time\n",
    "import math\n",
    "import folium\n",
    "# 시각화 라이브러리\n",
    "import matplotlib.pyplot as plt\n",
    "from matplotlib import font_manager, rc\n",
    "font_name = font_manager.FontProperties(fname=\"c:/Windows/Fonts/malgun.ttf\").get_name()\n",
    "rc('font', family=font_name)\n",
    "import seaborn as sns\n",
    "%matplotlib inline"
   ]
  },
  {
   "cell_type": "code",
   "execution_count": 100,
   "id": "3f647bf9",
   "metadata": {},
   "outputs": [],
   "source": [
    "people = pd.read_excel('C:/Users/wnrrh/desktop/data/모델링/동별 면적.xlsx',header=0)\n",
    "df = pd.read_excel('C:/Users/wnrrh/desktop/data/모델링/final_boho.xlsx',header=0)"
   ]
  },
  {
   "cell_type": "code",
   "execution_count": 101,
   "id": "f0b8ea37",
   "metadata": {},
   "outputs": [
    {
     "data": {
      "text/html": [
       "<div>\n",
       "<style scoped>\n",
       "    .dataframe tbody tr th:only-of-type {\n",
       "        vertical-align: middle;\n",
       "    }\n",
       "\n",
       "    .dataframe tbody tr th {\n",
       "        vertical-align: top;\n",
       "    }\n",
       "\n",
       "    .dataframe thead th {\n",
       "        text-align: right;\n",
       "    }\n",
       "</style>\n",
       "<table border=\"1\" class=\"dataframe\">\n",
       "  <thead>\n",
       "    <tr style=\"text-align: right;\">\n",
       "      <th></th>\n",
       "      <th>자치구</th>\n",
       "      <th>행정동</th>\n",
       "      <th>행정동 별 인구</th>\n",
       "      <th>면적_km</th>\n",
       "      <th>인구밀도</th>\n",
       "      <th>시설명</th>\n",
       "      <th>시간대구분</th>\n",
       "      <th>주소</th>\n",
       "      <th>도로명</th>\n",
       "      <th>시설종류</th>\n",
       "      <th>...</th>\n",
       "      <th>피해운전자 차종</th>\n",
       "      <th>피해운전자 연령</th>\n",
       "      <th>사고 수</th>\n",
       "      <th>통행량 도로명</th>\n",
       "      <th>통행량</th>\n",
       "      <th>오전/오후</th>\n",
       "      <th>등하교시간</th>\n",
       "      <th>출퇴근시간</th>\n",
       "      <th>속도준수여부</th>\n",
       "      <th>주변보호구역유무</th>\n",
       "    </tr>\n",
       "  </thead>\n",
       "  <tbody>\n",
       "    <tr>\n",
       "      <th>0</th>\n",
       "      <td>성북구</td>\n",
       "      <td>성북동</td>\n",
       "      <td>17404</td>\n",
       "      <td>2.86</td>\n",
       "      <td>6085</td>\n",
       "      <td>덕수유치원</td>\n",
       "      <td>3</td>\n",
       "      <td>서울특별시 성북구 성북로 127 (성북동)</td>\n",
       "      <td>성북로</td>\n",
       "      <td>유치원(일반)</td>\n",
       "      <td>...</td>\n",
       "      <td>0.000000</td>\n",
       "      <td>0.000000</td>\n",
       "      <td>0</td>\n",
       "      <td>대사관로(삼청터널)</td>\n",
       "      <td>0.000000</td>\n",
       "      <td>0</td>\n",
       "      <td>0</td>\n",
       "      <td>0</td>\n",
       "      <td>0</td>\n",
       "      <td>1</td>\n",
       "    </tr>\n",
       "    <tr>\n",
       "      <th>1</th>\n",
       "      <td>성북구</td>\n",
       "      <td>성북동</td>\n",
       "      <td>17404</td>\n",
       "      <td>2.86</td>\n",
       "      <td>6085</td>\n",
       "      <td>서울다원학교</td>\n",
       "      <td>3</td>\n",
       "      <td>서울특별시 성북구 성북로31길 5-15 (성북동)</td>\n",
       "      <td>성북로31길</td>\n",
       "      <td>특수학교</td>\n",
       "      <td>...</td>\n",
       "      <td>0.000000</td>\n",
       "      <td>0.000000</td>\n",
       "      <td>0</td>\n",
       "      <td>대사관로(삼청터널)</td>\n",
       "      <td>0.000000</td>\n",
       "      <td>0</td>\n",
       "      <td>0</td>\n",
       "      <td>0</td>\n",
       "      <td>0</td>\n",
       "      <td>1</td>\n",
       "    </tr>\n",
       "    <tr>\n",
       "      <th>2</th>\n",
       "      <td>성북구</td>\n",
       "      <td>성북동</td>\n",
       "      <td>17404</td>\n",
       "      <td>2.86</td>\n",
       "      <td>6085</td>\n",
       "      <td>덕수유치원</td>\n",
       "      <td>2</td>\n",
       "      <td>서울특별시 성북구 성북로 127 (성북동)</td>\n",
       "      <td>성북로</td>\n",
       "      <td>유치원(일반)</td>\n",
       "      <td>...</td>\n",
       "      <td>0.000000</td>\n",
       "      <td>0.000000</td>\n",
       "      <td>0</td>\n",
       "      <td>대사관로(삼청터널)</td>\n",
       "      <td>0.000284</td>\n",
       "      <td>0</td>\n",
       "      <td>0</td>\n",
       "      <td>0</td>\n",
       "      <td>0</td>\n",
       "      <td>1</td>\n",
       "    </tr>\n",
       "    <tr>\n",
       "      <th>3</th>\n",
       "      <td>성북구</td>\n",
       "      <td>성북동</td>\n",
       "      <td>17404</td>\n",
       "      <td>2.86</td>\n",
       "      <td>6085</td>\n",
       "      <td>서울다원학교</td>\n",
       "      <td>2</td>\n",
       "      <td>서울특별시 성북구 성북로31길 5-15 (성북동)</td>\n",
       "      <td>성북로31길</td>\n",
       "      <td>특수학교</td>\n",
       "      <td>...</td>\n",
       "      <td>0.000000</td>\n",
       "      <td>0.000000</td>\n",
       "      <td>0</td>\n",
       "      <td>대사관로(삼청터널)</td>\n",
       "      <td>0.000284</td>\n",
       "      <td>0</td>\n",
       "      <td>0</td>\n",
       "      <td>0</td>\n",
       "      <td>0</td>\n",
       "      <td>1</td>\n",
       "    </tr>\n",
       "    <tr>\n",
       "      <th>4</th>\n",
       "      <td>용산구</td>\n",
       "      <td>후암동</td>\n",
       "      <td>18202</td>\n",
       "      <td>0.86</td>\n",
       "      <td>21165</td>\n",
       "      <td>서울후암초등학교</td>\n",
       "      <td>3</td>\n",
       "      <td>서울특별시 용산구 두텁바위로 140</td>\n",
       "      <td>두텁바위로</td>\n",
       "      <td>초등학교</td>\n",
       "      <td>...</td>\n",
       "      <td>0.000000</td>\n",
       "      <td>0.000000</td>\n",
       "      <td>0</td>\n",
       "      <td>소파로(숭의여자대학교)</td>\n",
       "      <td>0.000860</td>\n",
       "      <td>0</td>\n",
       "      <td>0</td>\n",
       "      <td>0</td>\n",
       "      <td>0</td>\n",
       "      <td>1</td>\n",
       "    </tr>\n",
       "    <tr>\n",
       "      <th>...</th>\n",
       "      <td>...</td>\n",
       "      <td>...</td>\n",
       "      <td>...</td>\n",
       "      <td>...</td>\n",
       "      <td>...</td>\n",
       "      <td>...</td>\n",
       "      <td>...</td>\n",
       "      <td>...</td>\n",
       "      <td>...</td>\n",
       "      <td>...</td>\n",
       "      <td>...</td>\n",
       "      <td>...</td>\n",
       "      <td>...</td>\n",
       "      <td>...</td>\n",
       "      <td>...</td>\n",
       "      <td>...</td>\n",
       "      <td>...</td>\n",
       "      <td>...</td>\n",
       "      <td>...</td>\n",
       "      <td>...</td>\n",
       "      <td>...</td>\n",
       "    </tr>\n",
       "    <tr>\n",
       "      <th>36235</th>\n",
       "      <td>영등포구</td>\n",
       "      <td>신길4동</td>\n",
       "      <td>12974</td>\n",
       "      <td>0.38</td>\n",
       "      <td>34142</td>\n",
       "      <td>서울우신초등학교</td>\n",
       "      <td>14</td>\n",
       "      <td>서울특별시 영등포구 신길로 190 (신길동)</td>\n",
       "      <td>신길로</td>\n",
       "      <td>초등학교</td>\n",
       "      <td>...</td>\n",
       "      <td>2.000000</td>\n",
       "      <td>60.000000</td>\n",
       "      <td>1</td>\n",
       "      <td>경인로(서울교)</td>\n",
       "      <td>0.375869</td>\n",
       "      <td>1</td>\n",
       "      <td>1</td>\n",
       "      <td>0</td>\n",
       "      <td>1</td>\n",
       "      <td>1</td>\n",
       "    </tr>\n",
       "    <tr>\n",
       "      <th>36236</th>\n",
       "      <td>도봉구</td>\n",
       "      <td>쌍문4동</td>\n",
       "      <td>19297</td>\n",
       "      <td>0.52</td>\n",
       "      <td>37110</td>\n",
       "      <td>선희유치원</td>\n",
       "      <td>20</td>\n",
       "      <td>서울특별시 도봉구 해등로 241 (쌍문동)</td>\n",
       "      <td>해등로</td>\n",
       "      <td>유치원(일반)</td>\n",
       "      <td>...</td>\n",
       "      <td>4.000000</td>\n",
       "      <td>46.500000</td>\n",
       "      <td>2</td>\n",
       "      <td>도봉로(쌍문역)</td>\n",
       "      <td>0.139611</td>\n",
       "      <td>1</td>\n",
       "      <td>0</td>\n",
       "      <td>0</td>\n",
       "      <td>1</td>\n",
       "      <td>1</td>\n",
       "    </tr>\n",
       "    <tr>\n",
       "      <th>36237</th>\n",
       "      <td>양천구</td>\n",
       "      <td>신월4동</td>\n",
       "      <td>18487</td>\n",
       "      <td>0.52</td>\n",
       "      <td>35552</td>\n",
       "      <td>서울강서초등학교</td>\n",
       "      <td>19</td>\n",
       "      <td>서울특별시 양천구 오목로 31 (신월동)</td>\n",
       "      <td>오목로</td>\n",
       "      <td>초등학교</td>\n",
       "      <td>...</td>\n",
       "      <td>3.000000</td>\n",
       "      <td>66.000000</td>\n",
       "      <td>1</td>\n",
       "      <td>남부순환로(신월IC)</td>\n",
       "      <td>0.339756</td>\n",
       "      <td>1</td>\n",
       "      <td>0</td>\n",
       "      <td>1</td>\n",
       "      <td>1</td>\n",
       "      <td>1</td>\n",
       "    </tr>\n",
       "    <tr>\n",
       "      <th>36238</th>\n",
       "      <td>영등포구</td>\n",
       "      <td>신길4동</td>\n",
       "      <td>12974</td>\n",
       "      <td>0.38</td>\n",
       "      <td>34142</td>\n",
       "      <td>신길에덴유치원</td>\n",
       "      <td>15</td>\n",
       "      <td>서울특별시 영등포구 신길로38길 21 (신길동)</td>\n",
       "      <td>신길로38길</td>\n",
       "      <td>유치원(일반)</td>\n",
       "      <td>...</td>\n",
       "      <td>6.000000</td>\n",
       "      <td>31.000000</td>\n",
       "      <td>1</td>\n",
       "      <td>경인로(서울교)</td>\n",
       "      <td>0.371547</td>\n",
       "      <td>1</td>\n",
       "      <td>1</td>\n",
       "      <td>0</td>\n",
       "      <td>1</td>\n",
       "      <td>1</td>\n",
       "    </tr>\n",
       "    <tr>\n",
       "      <th>36239</th>\n",
       "      <td>도봉구</td>\n",
       "      <td>쌍문3동</td>\n",
       "      <td>16922</td>\n",
       "      <td>0.50</td>\n",
       "      <td>33844</td>\n",
       "      <td>서울숭미초등학교</td>\n",
       "      <td>16</td>\n",
       "      <td>서울특별시 도봉구 노해로 179 (쌍문동)</td>\n",
       "      <td>노해로</td>\n",
       "      <td>초등학교</td>\n",
       "      <td>...</td>\n",
       "      <td>5.666667</td>\n",
       "      <td>35.333333</td>\n",
       "      <td>3</td>\n",
       "      <td>도봉로(쌍문역)</td>\n",
       "      <td>0.169527</td>\n",
       "      <td>1</td>\n",
       "      <td>1</td>\n",
       "      <td>0</td>\n",
       "      <td>1</td>\n",
       "      <td>1</td>\n",
       "    </tr>\n",
       "  </tbody>\n",
       "</table>\n",
       "<p>36240 rows × 36 columns</p>\n",
       "</div>"
      ],
      "text/plain": [
       "        자치구   행정동  행정동 별 인구  면적_km   인구밀도       시설명  시간대구분  \\\n",
       "0       성북구   성북동     17404   2.86   6085     덕수유치원      3   \n",
       "1       성북구   성북동     17404   2.86   6085    서울다원학교      3   \n",
       "2       성북구   성북동     17404   2.86   6085     덕수유치원      2   \n",
       "3       성북구   성북동     17404   2.86   6085    서울다원학교      2   \n",
       "4       용산구   후암동     18202   0.86  21165  서울후암초등학교      3   \n",
       "...     ...   ...       ...    ...    ...       ...    ...   \n",
       "36235  영등포구  신길4동     12974   0.38  34142  서울우신초등학교     14   \n",
       "36236   도봉구  쌍문4동     19297   0.52  37110     선희유치원     20   \n",
       "36237   양천구  신월4동     18487   0.52  35552  서울강서초등학교     19   \n",
       "36238  영등포구  신길4동     12974   0.38  34142   신길에덴유치원     15   \n",
       "36239   도봉구  쌍문3동     16922   0.50  33844  서울숭미초등학교     16   \n",
       "\n",
       "                                주소     도로명     시설종류  ...  피해운전자 차종   피해운전자 연령  \\\n",
       "0          서울특별시 성북구 성북로 127 (성북동)     성북로  유치원(일반)  ...  0.000000   0.000000   \n",
       "1      서울특별시 성북구 성북로31길 5-15 (성북동)  성북로31길     특수학교  ...  0.000000   0.000000   \n",
       "2          서울특별시 성북구 성북로 127 (성북동)     성북로  유치원(일반)  ...  0.000000   0.000000   \n",
       "3      서울특별시 성북구 성북로31길 5-15 (성북동)  성북로31길     특수학교  ...  0.000000   0.000000   \n",
       "4             서울특별시 용산구 두텁바위로 140    두텁바위로     초등학교  ...  0.000000   0.000000   \n",
       "...                            ...     ...      ...  ...       ...        ...   \n",
       "36235     서울특별시 영등포구 신길로 190 (신길동)     신길로     초등학교  ...  2.000000  60.000000   \n",
       "36236      서울특별시 도봉구 해등로 241 (쌍문동)     해등로  유치원(일반)  ...  4.000000  46.500000   \n",
       "36237       서울특별시 양천구 오목로 31 (신월동)     오목로     초등학교  ...  3.000000  66.000000   \n",
       "36238   서울특별시 영등포구 신길로38길 21 (신길동)  신길로38길  유치원(일반)  ...  6.000000  31.000000   \n",
       "36239      서울특별시 도봉구 노해로 179 (쌍문동)     노해로     초등학교  ...  5.666667  35.333333   \n",
       "\n",
       "       사고 수       통행량 도로명       통행량  오전/오후  등하교시간  출퇴근시간 속도준수여부  주변보호구역유무  \n",
       "0         0    대사관로(삼청터널)  0.000000      0      0      0      0         1  \n",
       "1         0    대사관로(삼청터널)  0.000000      0      0      0      0         1  \n",
       "2         0    대사관로(삼청터널)  0.000284      0      0      0      0         1  \n",
       "3         0    대사관로(삼청터널)  0.000284      0      0      0      0         1  \n",
       "4         0  소파로(숭의여자대학교)  0.000860      0      0      0      0         1  \n",
       "...     ...           ...       ...    ...    ...    ...    ...       ...  \n",
       "36235     1      경인로(서울교)  0.375869      1      1      0      1         1  \n",
       "36236     2      도봉로(쌍문역)  0.139611      1      0      0      1         1  \n",
       "36237     1   남부순환로(신월IC)  0.339756      1      0      1      1         1  \n",
       "36238     1      경인로(서울교)  0.371547      1      1      0      1         1  \n",
       "36239     3      도봉로(쌍문역)  0.169527      1      1      0      1         1  \n",
       "\n",
       "[36240 rows x 36 columns]"
      ]
     },
     "execution_count": 101,
     "metadata": {},
     "output_type": "execute_result"
    }
   ],
   "source": [
    "final = pd.merge(people ,df, on=['자치구','행정동'], how='right')\n",
    "final"
   ]
  },
  {
   "cell_type": "code",
   "execution_count": 102,
   "id": "3f7a320f",
   "metadata": {
    "scrolled": true
   },
   "outputs": [
    {
     "name": "stdout",
     "output_type": "stream",
     "text": [
      "<class 'pandas.core.frame.DataFrame'>\n",
      "Int64Index: 36240 entries, 0 to 36239\n",
      "Data columns (total 36 columns):\n",
      " #   Column    Non-Null Count  Dtype  \n",
      "---  ------    --------------  -----  \n",
      " 0   자치구       36240 non-null  object \n",
      " 1   행정동       36240 non-null  object \n",
      " 2   행정동 별 인구  36240 non-null  int64  \n",
      " 3   면적_km     36240 non-null  float64\n",
      " 4   인구밀도      36240 non-null  int64  \n",
      " 5   시설명       36240 non-null  object \n",
      " 6   시간대구분     36240 non-null  int64  \n",
      " 7   주소        36240 non-null  object \n",
      " 8   도로명       36240 non-null  object \n",
      " 9   시설종류      36240 non-null  object \n",
      " 10  구역지정수     36240 non-null  int64  \n",
      " 11  보호구역도로폭   36240 non-null  float64\n",
      " 12  CCTV설치여부  36240 non-null  int64  \n",
      " 13  CCTV 수    36240 non-null  int64  \n",
      " 14  도로표지판 수   36240 non-null  float64\n",
      " 15  과속방지턱 수   36240 non-null  int64  \n",
      " 16  위도        36240 non-null  float64\n",
      " 17  경도        36240 non-null  float64\n",
      " 18  tmp       36240 non-null  object \n",
      " 19  속도        36240 non-null  float64\n",
      " 20  총생활인구수    36240 non-null  float64\n",
      " 21  사망자수      36240 non-null  int64  \n",
      " 22  중상자수      36240 non-null  int64  \n",
      " 23  경상자수      36240 non-null  int64  \n",
      " 24  부상신고자수    36240 non-null  int64  \n",
      " 25  가해운전자 차종  36240 non-null  float64\n",
      " 26  피해운전자 차종  36240 non-null  float64\n",
      " 27  피해운전자 연령  36240 non-null  float64\n",
      " 28  사고 수      36240 non-null  int64  \n",
      " 29  통행량 도로명   36240 non-null  object \n",
      " 30  통행량       36240 non-null  float64\n",
      " 31  오전/오후     36240 non-null  int64  \n",
      " 32  등하교시간     36240 non-null  int64  \n",
      " 33  출퇴근시간     36240 non-null  int64  \n",
      " 34  속도준수여부    36240 non-null  int64  \n",
      " 35  주변보호구역유무  36240 non-null  int64  \n",
      "dtypes: float64(11), int64(17), object(8)\n",
      "memory usage: 10.2+ MB\n"
     ]
    }
   ],
   "source": [
    "final.info()"
   ]
  },
  {
   "cell_type": "code",
   "execution_count": 103,
   "id": "f0f1a4ac",
   "metadata": {},
   "outputs": [],
   "source": [
    "final.to_excel('C:/Users/wnrrh/desktop/data/모델링/real_final.xlsx')"
   ]
  },
  {
   "cell_type": "markdown",
   "id": "d82554d8",
   "metadata": {},
   "source": [
    "위험도 산정. 통행량은 이미 민맥스 처리되어있음."
   ]
  },
  {
   "cell_type": "code",
   "execution_count": 85,
   "id": "c598c376",
   "metadata": {},
   "outputs": [],
   "source": [
    "# 위험도 산정\n",
    "final['위험도'] = 0\n",
    "for i in range(len(final)):\n",
    "    final.loc[i,'위험도'] = (((final.loc[i,'사망자수'] + final.loc[i,'중상자수']*0.7 + final.loc[i,'경상자수']*0.3 + final.loc[i,'부상신고자수']*0.3))*0.75+(final.loc[i,'통행량'])*0.25)/(final.loc[i,'인구밀도'])*10000"
   ]
  },
  {
   "cell_type": "code",
   "execution_count": 87,
   "id": "969a47af",
   "metadata": {},
   "outputs": [],
   "source": [
    "def MinMax(x):\n",
    "    _max = x.max()\n",
    "    _min = x.min()\n",
    "    _denominator = _max - _min\n",
    "    return (x- _min) / _denominator\n",
    "final['위험도'] = MinMax(final['위험도'])"
   ]
  },
  {
   "cell_type": "code",
   "execution_count": 88,
   "id": "320d96c8",
   "metadata": {},
   "outputs": [
    {
     "name": "stderr",
     "output_type": "stream",
     "text": [
      "C:\\Users\\wnrrh\\anaconda3\\lib\\site-packages\\seaborn\\distributions.py:2557: FutureWarning: `distplot` is a deprecated function and will be removed in a future version. Please adapt your code to use either `displot` (a figure-level function with similar flexibility) or `histplot` (an axes-level function for histograms).\n",
      "  warnings.warn(msg, FutureWarning)\n"
     ]
    },
    {
     "data": {
      "text/plain": [
       "Text(0.5, 1.0, '위험도 분포')"
      ]
     },
     "execution_count": 88,
     "metadata": {},
     "output_type": "execute_result"
    },
    {
     "data": {
      "image/png": "[encoded data removed]",
      "text/plain": [
       "<Figure size 576x360 with 1 Axes>"
      ]
     },
     "metadata": {
      "needs_background": "light"
     },
     "output_type": "display_data"
    }
   ],
   "source": [
    "# 산정한 위험도 분포\n",
    "plt.figure(figsize=(8,5))\n",
    "sns.distplot(final['위험도'])\n",
    "plt.title('위험도 분포',fontdict={'fontsize':15})"
   ]
  },
  {
   "cell_type": "code",
   "execution_count": 90,
   "id": "418df017",
   "metadata": {
    "scrolled": false
   },
   "outputs": [
    {
     "name": "stderr",
     "output_type": "stream",
     "text": [
      "C:\\Users\\wnrrh\\anaconda3\\lib\\site-packages\\matplotlib\\backends\\backend_agg.py:238: RuntimeWarning: Glyph 51064 missing from current font.\n",
      "  font.set_text(s, 0.0, flags=flags)\n",
      "C:\\Users\\wnrrh\\anaconda3\\lib\\site-packages\\matplotlib\\backends\\backend_agg.py:238: RuntimeWarning: Glyph 44396 missing from current font.\n",
      "  font.set_text(s, 0.0, flags=flags)\n",
      "C:\\Users\\wnrrh\\anaconda3\\lib\\site-packages\\matplotlib\\backends\\backend_agg.py:238: RuntimeWarning: Glyph 48128 missing from current font.\n",
      "  font.set_text(s, 0.0, flags=flags)\n",
      "C:\\Users\\wnrrh\\anaconda3\\lib\\site-packages\\matplotlib\\backends\\backend_agg.py:238: RuntimeWarning: Glyph 46020 missing from current font.\n",
      "  font.set_text(s, 0.0, flags=flags)\n",
      "C:\\Users\\wnrrh\\anaconda3\\lib\\site-packages\\matplotlib\\backends\\backend_agg.py:238: RuntimeWarning: Glyph 50948 missing from current font.\n",
      "  font.set_text(s, 0.0, flags=flags)\n",
      "C:\\Users\\wnrrh\\anaconda3\\lib\\site-packages\\matplotlib\\backends\\backend_agg.py:238: RuntimeWarning: Glyph 54744 missing from current font.\n",
      "  font.set_text(s, 0.0, flags=flags)\n",
      "C:\\Users\\wnrrh\\anaconda3\\lib\\site-packages\\matplotlib\\backends\\backend_agg.py:201: RuntimeWarning: Glyph 51064 missing from current font.\n",
      "  font.set_text(s, 0, flags=flags)\n",
      "C:\\Users\\wnrrh\\anaconda3\\lib\\site-packages\\matplotlib\\backends\\backend_agg.py:201: RuntimeWarning: Glyph 44396 missing from current font.\n",
      "  font.set_text(s, 0, flags=flags)\n",
      "C:\\Users\\wnrrh\\anaconda3\\lib\\site-packages\\matplotlib\\backends\\backend_agg.py:201: RuntimeWarning: Glyph 48128 missing from current font.\n",
      "  font.set_text(s, 0, flags=flags)\n",
      "C:\\Users\\wnrrh\\anaconda3\\lib\\site-packages\\matplotlib\\backends\\backend_agg.py:201: RuntimeWarning: Glyph 46020 missing from current font.\n",
      "  font.set_text(s, 0, flags=flags)\n",
      "C:\\Users\\wnrrh\\anaconda3\\lib\\site-packages\\matplotlib\\backends\\backend_agg.py:201: RuntimeWarning: Glyph 50948 missing from current font.\n",
      "  font.set_text(s, 0, flags=flags)\n",
      "C:\\Users\\wnrrh\\anaconda3\\lib\\site-packages\\matplotlib\\backends\\backend_agg.py:201: RuntimeWarning: Glyph 54744 missing from current font.\n",
      "  font.set_text(s, 0, flags=flags)\n"
     ]
    },
    {
     "data": {
      "image/png": "[encoded data removed]",
      "text/plain": [
       "<Figure size 504x504 with 1 Axes>"
      ]
     },
     "metadata": {},
     "output_type": "display_data"
    },
    {
     "name": "stderr",
     "output_type": "stream",
     "text": [
      "C:\\Users\\wnrrh\\anaconda3\\lib\\site-packages\\matplotlib\\backends\\backend_agg.py:238: RuntimeWarning: Glyph 50640 missing from current font.\n",
      "  font.set_text(s, 0.0, flags=flags)\n",
      "C:\\Users\\wnrrh\\anaconda3\\lib\\site-packages\\matplotlib\\backends\\backend_agg.py:238: RuntimeWarning: Glyph 46384 missing from current font.\n",
      "  font.set_text(s, 0.0, flags=flags)\n",
      "C:\\Users\\wnrrh\\anaconda3\\lib\\site-packages\\matplotlib\\backends\\backend_agg.py:238: RuntimeWarning: Glyph 47480 missing from current font.\n",
      "  font.set_text(s, 0.0, flags=flags)\n",
      "C:\\Users\\wnrrh\\anaconda3\\lib\\site-packages\\matplotlib\\backends\\backend_agg.py:238: RuntimeWarning: Glyph 48372 missing from current font.\n",
      "  font.set_text(s, 0.0, flags=flags)\n",
      "C:\\Users\\wnrrh\\anaconda3\\lib\\site-packages\\matplotlib\\backends\\backend_agg.py:238: RuntimeWarning: Glyph 54840 missing from current font.\n",
      "  font.set_text(s, 0.0, flags=flags)\n",
      "C:\\Users\\wnrrh\\anaconda3\\lib\\site-packages\\matplotlib\\backends\\backend_agg.py:238: RuntimeWarning: Glyph 50669 missing from current font.\n",
      "  font.set_text(s, 0.0, flags=flags)\n",
      "C:\\Users\\wnrrh\\anaconda3\\lib\\site-packages\\matplotlib\\backends\\backend_agg.py:201: RuntimeWarning: Glyph 50640 missing from current font.\n",
      "  font.set_text(s, 0, flags=flags)\n",
      "C:\\Users\\wnrrh\\anaconda3\\lib\\site-packages\\matplotlib\\backends\\backend_agg.py:201: RuntimeWarning: Glyph 46384 missing from current font.\n",
      "  font.set_text(s, 0, flags=flags)\n",
      "C:\\Users\\wnrrh\\anaconda3\\lib\\site-packages\\matplotlib\\backends\\backend_agg.py:201: RuntimeWarning: Glyph 47480 missing from current font.\n",
      "  font.set_text(s, 0, flags=flags)\n",
      "C:\\Users\\wnrrh\\anaconda3\\lib\\site-packages\\matplotlib\\backends\\backend_agg.py:201: RuntimeWarning: Glyph 48372 missing from current font.\n",
      "  font.set_text(s, 0, flags=flags)\n",
      "C:\\Users\\wnrrh\\anaconda3\\lib\\site-packages\\matplotlib\\backends\\backend_agg.py:201: RuntimeWarning: Glyph 54840 missing from current font.\n",
      "  font.set_text(s, 0, flags=flags)\n",
      "C:\\Users\\wnrrh\\anaconda3\\lib\\site-packages\\matplotlib\\backends\\backend_agg.py:201: RuntimeWarning: Glyph 50669 missing from current font.\n",
      "  font.set_text(s, 0, flags=flags)\n"
     ]
    },
    {
     "data": {
      "image/png": "[encoded data removed]",
      "text/plain": [
       "<Figure size 1440x720 with 1 Axes>"
      ]
     },
     "metadata": {},
     "output_type": "display_data"
    }
   ],
   "source": [
    "# 인구밀도와 위험도 사이의 상관관계 분석\n",
    "sns.set_style('darkgrid')\n",
    "sns.lmplot(x='인구밀도',y='위험도',data=final,height=7)\n",
    "plt.figure(figsize=(20,10))\n",
    "plt.xlabel('인구밀도')\n",
    "plt.ylabel('위험도')\n",
    "plt.title('인구밀도에 따른 보호구역 위험도',fontdict = {'fontsize':15})\n",
    "plt.show()"
   ]
  },
  {
   "cell_type": "code",
   "execution_count": null,
   "id": "30c3d0ff",
   "metadata": {},
   "outputs": [],
   "source": [
    "final['위험도'].describe()"
   ]
  },
  {
   "cell_type": "code",
   "execution_count": 94,
   "id": "8856a669",
   "metadata": {
    "scrolled": true
   },
   "outputs": [],
   "source": [
    "## k-means clustering\n",
    "from sklearn.cluster import KMeans\n",
    "features = ['위험도']\n",
    "\n",
    "X = final[features]\n",
    "X_train = pd.get_dummies(X)\n",
    "\n",
    "model = KMeans(n_clusters=3, random_state=0)\n",
    "model.fit(X_train)\n",
    "y_pred = model.labels_\n",
    "\n",
    "final['cluster_label'] = y_pred"
   ]
  },
  {
   "cell_type": "code",
   "execution_count": 95,
   "id": "2ff6fb72",
   "metadata": {
    "scrolled": true
   },
   "outputs": [
    {
     "name": "stderr",
     "output_type": "stream",
     "text": [
      "C:\\Users\\wnrrh\\anaconda3\\lib\\site-packages\\matplotlib\\backends\\backend_agg.py:238: RuntimeWarning: Glyph 44536 missing from current font.\n",
      "  font.set_text(s, 0.0, flags=flags)\n",
      "C:\\Users\\wnrrh\\anaconda3\\lib\\site-packages\\matplotlib\\backends\\backend_agg.py:238: RuntimeWarning: Glyph 47353 missing from current font.\n",
      "  font.set_text(s, 0.0, flags=flags)\n",
      "C:\\Users\\wnrrh\\anaconda3\\lib\\site-packages\\matplotlib\\backends\\backend_agg.py:238: RuntimeWarning: Glyph 49688 missing from current font.\n",
      "  font.set_text(s, 0.0, flags=flags)\n",
      "C:\\Users\\wnrrh\\anaconda3\\lib\\site-packages\\matplotlib\\backends\\backend_agg.py:238: RuntimeWarning: Glyph 44050 missing from current font.\n",
      "  font.set_text(s, 0.0, flags=flags)\n",
      "C:\\Users\\wnrrh\\anaconda3\\lib\\site-packages\\matplotlib\\backends\\backend_agg.py:201: RuntimeWarning: Glyph 44536 missing from current font.\n",
      "  font.set_text(s, 0, flags=flags)\n",
      "C:\\Users\\wnrrh\\anaconda3\\lib\\site-packages\\matplotlib\\backends\\backend_agg.py:201: RuntimeWarning: Glyph 47353 missing from current font.\n",
      "  font.set_text(s, 0, flags=flags)\n",
      "C:\\Users\\wnrrh\\anaconda3\\lib\\site-packages\\matplotlib\\backends\\backend_agg.py:201: RuntimeWarning: Glyph 49688 missing from current font.\n",
      "  font.set_text(s, 0, flags=flags)\n",
      "C:\\Users\\wnrrh\\anaconda3\\lib\\site-packages\\matplotlib\\backends\\backend_agg.py:201: RuntimeWarning: Glyph 44050 missing from current font.\n",
      "  font.set_text(s, 0, flags=flags)\n"
     ]
    },
    {
     "data": {
      "image/png": "[encoded data removed]",
      "text/plain": [
       "<Figure size 504x432 with 1 Axes>"
      ]
     },
     "metadata": {},
     "output_type": "display_data"
    }
   ],
   "source": [
    "# 군집 수 확인 \n",
    "inertia_list = []\n",
    "for k in range(1,11):\n",
    "    model = KMeans(n_clusters=k)\n",
    "    model.fit(X)\n",
    "    inertia_list.append(model.inertia_)\n",
    "plt.figure(figsize=(7,6))\n",
    "plt.plot(range(1,11), inertia_list, marker='o')\n",
    "plt.xlabel(\"그룹 수\")\n",
    "plt.ylabel(\"inertia 값\")\n",
    "plt.show()"
   ]
  },
  {
   "cell_type": "code",
   "execution_count": 96,
   "id": "759d921e",
   "metadata": {},
   "outputs": [
    {
     "name": "stdout",
     "output_type": "stream",
     "text": [
      "0.011428270758648417\n"
     ]
    }
   ],
   "source": [
    "print(final['총생활인구수'].corr(final['위험도']))"
   ]
  },
  {
   "cell_type": "code",
   "execution_count": 97,
   "id": "3eba931d",
   "metadata": {},
   "outputs": [
    {
     "data": {
      "text/plain": [
       "<matplotlib.collections.PathCollection at 0x1adc9fcc2b0>"
      ]
     },
     "execution_count": 97,
     "metadata": {},
     "output_type": "execute_result"
    },
    {
     "data": {
      "image/png": "[encoded data removed]",
      "text/plain": [
       "<Figure size 432x288 with 1 Axes>"
      ]
     },
     "metadata": {},
     "output_type": "display_data"
    }
   ],
   "source": [
    "plt.scatter(x = final[\"시간대구분\"], y = final[\"위험도\"], c=y_pred)"
   ]
  },
  {
   "cell_type": "code",
   "execution_count": 98,
   "id": "2934f4db",
   "metadata": {},
   "outputs": [
    {
     "name": "stderr",
     "output_type": "stream",
     "text": [
      "C:\\Users\\wnrrh\\anaconda3\\lib\\site-packages\\matplotlib\\backends\\backend_agg.py:238: RuntimeWarning: Glyph 49884 missing from current font.\n",
      "  font.set_text(s, 0.0, flags=flags)\n",
      "C:\\Users\\wnrrh\\anaconda3\\lib\\site-packages\\matplotlib\\backends\\backend_agg.py:238: RuntimeWarning: Glyph 44036 missing from current font.\n",
      "  font.set_text(s, 0.0, flags=flags)\n",
      "C:\\Users\\wnrrh\\anaconda3\\lib\\site-packages\\matplotlib\\backends\\backend_agg.py:238: RuntimeWarning: Glyph 45824 missing from current font.\n",
      "  font.set_text(s, 0.0, flags=flags)\n",
      "C:\\Users\\wnrrh\\anaconda3\\lib\\site-packages\\matplotlib\\backends\\backend_agg.py:238: RuntimeWarning: Glyph 44396 missing from current font.\n",
      "  font.set_text(s, 0.0, flags=flags)\n",
      "C:\\Users\\wnrrh\\anaconda3\\lib\\site-packages\\matplotlib\\backends\\backend_agg.py:238: RuntimeWarning: Glyph 48516 missing from current font.\n",
      "  font.set_text(s, 0.0, flags=flags)\n",
      "C:\\Users\\wnrrh\\anaconda3\\lib\\site-packages\\matplotlib\\backends\\backend_agg.py:238: RuntimeWarning: Glyph 50640 missing from current font.\n",
      "  font.set_text(s, 0.0, flags=flags)\n",
      "C:\\Users\\wnrrh\\anaconda3\\lib\\site-packages\\matplotlib\\backends\\backend_agg.py:238: RuntimeWarning: Glyph 46384 missing from current font.\n",
      "  font.set_text(s, 0.0, flags=flags)\n",
      "C:\\Users\\wnrrh\\anaconda3\\lib\\site-packages\\matplotlib\\backends\\backend_agg.py:238: RuntimeWarning: Glyph 47480 missing from current font.\n",
      "  font.set_text(s, 0.0, flags=flags)\n",
      "C:\\Users\\wnrrh\\anaconda3\\lib\\site-packages\\matplotlib\\backends\\backend_agg.py:238: RuntimeWarning: Glyph 48372 missing from current font.\n",
      "  font.set_text(s, 0.0, flags=flags)\n",
      "C:\\Users\\wnrrh\\anaconda3\\lib\\site-packages\\matplotlib\\backends\\backend_agg.py:238: RuntimeWarning: Glyph 54840 missing from current font.\n",
      "  font.set_text(s, 0.0, flags=flags)\n",
      "C:\\Users\\wnrrh\\anaconda3\\lib\\site-packages\\matplotlib\\backends\\backend_agg.py:238: RuntimeWarning: Glyph 50669 missing from current font.\n",
      "  font.set_text(s, 0.0, flags=flags)\n",
      "C:\\Users\\wnrrh\\anaconda3\\lib\\site-packages\\matplotlib\\backends\\backend_agg.py:238: RuntimeWarning: Glyph 50948 missing from current font.\n",
      "  font.set_text(s, 0.0, flags=flags)\n",
      "C:\\Users\\wnrrh\\anaconda3\\lib\\site-packages\\matplotlib\\backends\\backend_agg.py:238: RuntimeWarning: Glyph 54744 missing from current font.\n",
      "  font.set_text(s, 0.0, flags=flags)\n",
      "C:\\Users\\wnrrh\\anaconda3\\lib\\site-packages\\matplotlib\\backends\\backend_agg.py:238: RuntimeWarning: Glyph 46020 missing from current font.\n",
      "  font.set_text(s, 0.0, flags=flags)\n",
      "C:\\Users\\wnrrh\\anaconda3\\lib\\site-packages\\matplotlib\\backends\\backend_agg.py:238: RuntimeWarning: Glyph 45800 missing from current font.\n",
      "  font.set_text(s, 0.0, flags=flags)\n",
      "C:\\Users\\wnrrh\\anaconda3\\lib\\site-packages\\matplotlib\\backends\\backend_agg.py:238: RuntimeWarning: Glyph 44228 missing from current font.\n",
      "  font.set_text(s, 0.0, flags=flags)\n",
      "C:\\Users\\wnrrh\\anaconda3\\lib\\site-packages\\matplotlib\\backends\\backend_agg.py:201: RuntimeWarning: Glyph 49884 missing from current font.\n",
      "  font.set_text(s, 0, flags=flags)\n",
      "C:\\Users\\wnrrh\\anaconda3\\lib\\site-packages\\matplotlib\\backends\\backend_agg.py:201: RuntimeWarning: Glyph 44036 missing from current font.\n",
      "  font.set_text(s, 0, flags=flags)\n",
      "C:\\Users\\wnrrh\\anaconda3\\lib\\site-packages\\matplotlib\\backends\\backend_agg.py:201: RuntimeWarning: Glyph 45824 missing from current font.\n",
      "  font.set_text(s, 0, flags=flags)\n",
      "C:\\Users\\wnrrh\\anaconda3\\lib\\site-packages\\matplotlib\\backends\\backend_agg.py:201: RuntimeWarning: Glyph 44396 missing from current font.\n",
      "  font.set_text(s, 0, flags=flags)\n",
      "C:\\Users\\wnrrh\\anaconda3\\lib\\site-packages\\matplotlib\\backends\\backend_agg.py:201: RuntimeWarning: Glyph 48516 missing from current font.\n",
      "  font.set_text(s, 0, flags=flags)\n",
      "C:\\Users\\wnrrh\\anaconda3\\lib\\site-packages\\matplotlib\\backends\\backend_agg.py:201: RuntimeWarning: Glyph 50948 missing from current font.\n",
      "  font.set_text(s, 0, flags=flags)\n",
      "C:\\Users\\wnrrh\\anaconda3\\lib\\site-packages\\matplotlib\\backends\\backend_agg.py:201: RuntimeWarning: Glyph 54744 missing from current font.\n",
      "  font.set_text(s, 0, flags=flags)\n",
      "C:\\Users\\wnrrh\\anaconda3\\lib\\site-packages\\matplotlib\\backends\\backend_agg.py:201: RuntimeWarning: Glyph 46020 missing from current font.\n",
      "  font.set_text(s, 0, flags=flags)\n",
      "C:\\Users\\wnrrh\\anaconda3\\lib\\site-packages\\matplotlib\\backends\\backend_agg.py:201: RuntimeWarning: Glyph 50640 missing from current font.\n",
      "  font.set_text(s, 0, flags=flags)\n",
      "C:\\Users\\wnrrh\\anaconda3\\lib\\site-packages\\matplotlib\\backends\\backend_agg.py:201: RuntimeWarning: Glyph 46384 missing from current font.\n",
      "  font.set_text(s, 0, flags=flags)\n",
      "C:\\Users\\wnrrh\\anaconda3\\lib\\site-packages\\matplotlib\\backends\\backend_agg.py:201: RuntimeWarning: Glyph 47480 missing from current font.\n",
      "  font.set_text(s, 0, flags=flags)\n",
      "C:\\Users\\wnrrh\\anaconda3\\lib\\site-packages\\matplotlib\\backends\\backend_agg.py:201: RuntimeWarning: Glyph 48372 missing from current font.\n",
      "  font.set_text(s, 0, flags=flags)\n",
      "C:\\Users\\wnrrh\\anaconda3\\lib\\site-packages\\matplotlib\\backends\\backend_agg.py:201: RuntimeWarning: Glyph 54840 missing from current font.\n",
      "  font.set_text(s, 0, flags=flags)\n",
      "C:\\Users\\wnrrh\\anaconda3\\lib\\site-packages\\matplotlib\\backends\\backend_agg.py:201: RuntimeWarning: Glyph 50669 missing from current font.\n",
      "  font.set_text(s, 0, flags=flags)\n",
      "C:\\Users\\wnrrh\\anaconda3\\lib\\site-packages\\matplotlib\\backends\\backend_agg.py:201: RuntimeWarning: Glyph 45800 missing from current font.\n",
      "  font.set_text(s, 0, flags=flags)\n",
      "C:\\Users\\wnrrh\\anaconda3\\lib\\site-packages\\matplotlib\\backends\\backend_agg.py:201: RuntimeWarning: Glyph 44228 missing from current font.\n",
      "  font.set_text(s, 0, flags=flags)\n"
     ]
    },
    {
     "data": {
      "image/png": "[encoded data removed]",
      "text/plain": [
       "<Figure size 576x360 with 1 Axes>"
      ]
     },
     "metadata": {},
     "output_type": "display_data"
    }
   ],
   "source": [
    "# 클러스터링 결과 시각화\n",
    "plt.figure(figsize = (8,5))\n",
    "sns.lineplot(data=final[final['cluster_label']==0],x='시간대구분', y='위험도', ci=None, label='위험도 1단계')\n",
    "sns.lineplot(data=final[final['cluster_label']==1],x='시간대구분', y='위험도', ci=None, label='위험도 2단계')\n",
    "sns.lineplot(data=final[final['cluster_label']==2],x='시간대구분', y='위험도', ci=None, label='위험도 3단계')\n",
    "# sns.lineplot(data=df[df['cluster_label']==3],x='시간대구분', y='위험도', ci=None, label='위험도 4단계')\n",
    "plt.title('시간에 따른 보호구역 위험도',fontdict = {'fontsize':15})\n",
    "plt.legend()\n",
    "plt.show()"
   ]
  },
  {
   "cell_type": "code",
   "execution_count": null,
   "id": "eb6ae431",
   "metadata": {},
   "outputs": [],
   "source": []
  },
  {
   "cell_type": "code",
   "execution_count": null,
   "id": "863bd02e",
   "metadata": {},
   "outputs": [],
   "source": []
  },
  {
   "cell_type": "code",
   "execution_count": null,
   "id": "9f0d8aae",
   "metadata": {},
   "outputs": [],
   "source": []
  },
  {
   "cell_type": "code",
   "execution_count": 74,
   "id": "8797f173",
   "metadata": {},
   "outputs": [],
   "source": [
    "# 모델링 라이브러리\n",
    "from sklearn.model_selection import GridSearchCV, RandomizedSearchCV, cross_val_score\n",
    "from sklearn.pipeline import make_pipeline, Pipeline\n",
    "from sklearn.preprocessing import StandardScaler\n",
    "from sklearn.preprocessing import OneHotEncoder, LabelEncoder\n",
    "from sklearn.compose import ColumnTransformer\n",
    "from sklearn.metrics import make_scorer, precision_score, f1_score, recall_score, accuracy_score, average_precision_score # Evaluation\n",
    "from sklearn.metrics import precision_score, recall_score, classification_report\n",
    "from sklearn.ensemble import RandomForestClassifier\n",
    "from sklearn.model_selection import train_test_split\n",
    "from sklearn.datasets import make_moons\n",
    "from sklearn.ensemble import RandomForestRegressor"
   ]
  },
  {
   "cell_type": "code",
   "execution_count": null,
   "id": "51bba32e",
   "metadata": {},
   "outputs": [],
   "source": [
    "# 연속형 변수 \n",
    "numeric_features = X.select_dtypes(\"float\").columns.to_list()\n",
    "numeric_transformer = Pipeline(steps=[('scaler', StandardScaler())])\n",
    "\n",
    "# 범주형 변수 처리\n",
    "categorical_features = X.select_dtypes(\"object\").columns.to_list()\n",
    "categorical_transformer = Pipeline(steps=[('onehot', OneHotEncoder(handle_unknown='ignore'))])\n",
    "\n",
    "#컬럼 변환\n",
    "preprocessor = ColumnTransformer(\n",
    "    transformers=[\n",
    "        ('num', numeric_transformer, numeric_features)])\n",
    "        # ('cat', categorical_transformer, categorical_features)])\n"
   ]
  }
 ],
 "metadata": {
  "kernelspec": {
   "display_name": "Python 3",
   "language": "python",
   "name": "python3"
  },
  "language_info": {
   "codemirror_mode": {
    "name": "ipython",
    "version": 3
   },
   "file_extension": ".py",
   "mimetype": "text/x-python",
   "name": "python",
   "nbconvert_exporter": "python",
   "pygments_lexer": "ipython3",
   "version": "3.8.8"
  }
 },
 "nbformat": 4,
 "nbformat_minor": 5
}
