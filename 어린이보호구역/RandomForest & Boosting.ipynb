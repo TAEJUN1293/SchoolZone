{
 "cells": [
  {
   "cell_type": "markdown",
   "id": "211818ca",
   "metadata": {},
   "source": [
    "기본 라이브러리"
   ]
  },
  {
   "cell_type": "code",
   "execution_count": 68,
   "id": "3384309d",
   "metadata": {},
   "outputs": [],
   "source": [
    "import pandas as pd\n",
    "import numpy as np\n",
    "from datetime import time\n",
    "import math\n",
    "import folium\n",
    "# 시각화 라이브러리\n",
    "import matplotlib.pyplot as plt\n",
    "from matplotlib import font_manager, rc\n",
    "font_name = font_manager.FontProperties(fname=\"c:/Windows/Fonts/malgun.ttf\").get_name()\n",
    "rc('font', family=font_name)\n",
    "import seaborn as sns\n",
    "%matplotlib inline"
   ]
  },
  {
   "cell_type": "code",
   "execution_count": 69,
   "id": "466a180a",
   "metadata": {
    "scrolled": true
   },
   "outputs": [],
   "source": [
    "df = pd.read_excel('C:/Users/wnrrh/desktop/data/model_K.xlsx',header=0)"
   ]
  },
  {
   "cell_type": "code",
   "execution_count": 70,
   "id": "6289065b",
   "metadata": {},
   "outputs": [],
   "source": [
    "columns = ['시설명','시간대구분','주소','도로명','행정동','행정동 별 인구','면적','인구밀도','자치구','시설종류','구역지정수',\n",
    "           '보호구역도로폭','CCTV설치여부','CCTV 수','도로표지판 수','과속방지턱 수','위도','경도','tmp','속도','총생활인구수',\n",
    "           '사망자수','중상자수','경상자수','부상신고자수','가해운전자 차종','피해운전자 차종',\n",
    "           '피해운전자 연령', '사고 수','통행량 도로명','통행량','오전/오후','등하교시간','출퇴근시간','속도준수여부','주변보호구역유무'\n",
    "          ]\n",
    "df.columns = columns"
   ]
  },
  {
   "cell_type": "code",
   "execution_count": 71,
   "id": "e9e9ea33",
   "metadata": {},
   "outputs": [
    {
     "name": "stdout",
     "output_type": "stream",
     "text": [
      "<class 'pandas.core.frame.DataFrame'>\n",
      "RangeIndex: 36240 entries, 0 to 36239\n",
      "Data columns (total 36 columns):\n",
      " #   Column    Non-Null Count  Dtype  \n",
      "---  ------    --------------  -----  \n",
      " 0   시설명       36240 non-null  object \n",
      " 1   시간대구분     36240 non-null  int64  \n",
      " 2   주소        36240 non-null  object \n",
      " 3   도로명       36240 non-null  object \n",
      " 4   행정동       36240 non-null  object \n",
      " 5   행정동 별 인구  36240 non-null  int64  \n",
      " 6   면적        36240 non-null  float64\n",
      " 7   인구밀도      36240 non-null  int64  \n",
      " 8   자치구       36240 non-null  object \n",
      " 9   시설종류      36240 non-null  object \n",
      " 10  구역지정수     36240 non-null  int64  \n",
      " 11  보호구역도로폭   36240 non-null  float64\n",
      " 12  CCTV설치여부  36240 non-null  int64  \n",
      " 13  CCTV 수    36240 non-null  int64  \n",
      " 14  도로표지판 수   36240 non-null  float64\n",
      " 15  과속방지턱 수   36240 non-null  int64  \n",
      " 16  위도        36240 non-null  float64\n",
      " 17  경도        36240 non-null  float64\n",
      " 18  tmp       36240 non-null  object \n",
      " 19  속도        36240 non-null  float64\n",
      " 20  총생활인구수    36240 non-null  float64\n",
      " 21  사망자수      36240 non-null  int64  \n",
      " 22  중상자수      36240 non-null  int64  \n",
      " 23  경상자수      36240 non-null  int64  \n",
      " 24  부상신고자수    36240 non-null  int64  \n",
      " 25  가해운전자 차종  36240 non-null  float64\n",
      " 26  피해운전자 차종  36240 non-null  float64\n",
      " 27  피해운전자 연령  36240 non-null  float64\n",
      " 28  사고 수      36240 non-null  int64  \n",
      " 29  통행량 도로명   36240 non-null  object \n",
      " 30  통행량       36240 non-null  float64\n",
      " 31  오전/오후     36240 non-null  int64  \n",
      " 32  등하교시간     36240 non-null  int64  \n",
      " 33  출퇴근시간     36240 non-null  int64  \n",
      " 34  속도준수여부    36240 non-null  int64  \n",
      " 35  주변보호구역유무  36240 non-null  int64  \n",
      "dtypes: float64(11), int64(17), object(8)\n",
      "memory usage: 10.0+ MB\n"
     ]
    }
   ],
   "source": [
    "df.info()"
   ]
  },
  {
   "cell_type": "code",
   "execution_count": 72,
   "id": "69f8ca2e",
   "metadata": {},
   "outputs": [],
   "source": [
    "# 파생변수 (의사결정나무를 통한)\n",
    "\n",
    "# 시간대 관련\n",
    "df['오전/오후'] = df['시간대구분'].apply(lambda x: 1 if (12<=x<=23) else 0)\n",
    "df['등하교시간'] = df['시간대구분'].apply(lambda x: 1 if (7<=x<=9) | (15<=x<=17) else 0)\n",
    "df['출퇴근시간'] = df['시간대구분'].apply(lambda x: 1 if (7<=x<=10) | (17<=x<=19) else 0)\n",
    "df['점심시간'] = df['시간대구분'].apply(lambda x: 1 if (12<=x<=13) else 0)\n",
    "df['일출/일몰'] = df['시간대구분'].apply(lambda x: 1 if (6<=x<=18) else 0)\n",
    "df['활동시간'] = df['시간대구분'].apply(lambda x:1 if x>7.5 else 0)\n",
    "\n",
    "# 속도 관련\n",
    "df['속도준수여부'] = df['속도'].apply(lambda x:1 if x<=30 else 0)\n",
    "\n",
    "# CCTV 관련\n",
    "df.loc[df['CCTV 수'] == 0, 'CCTV설치여부'] = 0\n",
    "df.loc[df['CCTV 수'] > 0, 'CCTV설치여부'] = 1\n",
    "\n",
    "# 차종 관련\n",
    "df['가해차종125cc이상'] = df['가해운전자 차종'].apply(lambda x: 1 if (3.973<=x) else 0)\n",
    "df['피해차종엔진유무'] = df['피해운전자 차종'].apply(lambda x: 1 if (x<=6.021) else 0)\n",
    "df['가해차종4륜유무'] = df['가해운전자 차종'].apply(lambda x: 1 if (x>4.477) else 0)\n",
    "\n",
    "# 연령 관련\n",
    "df['어린이 피해 여부'] = df['피해운전자 연령'].apply(lambda x: 1 if (1<=x<=13.333) else 0)\n",
    "df['고령자 피해 여부'] = df['피해운전자 연령'].apply(lambda x: 1 if (x<=76.804) else 0)\n",
    "df['피해자교통수단탑승유무'] = df['피해운전자 차종'].apply(lambda x:1 if (x<6.021) else 0)\n",
    "df['보호구역초등학교여부'] = df['시설종류'].apply(lambda x: 1 if (x=='초등학교') else 0)\n",
    "df['피해자연령38세이하'] = df['피해운전자 연령'].apply(lambda x : 1 if (x<=38.453) else 0)\n",
    "df['피해차량승합차량여부'] = df['피해운전자 차종'].apply(lambda x:1 if (x<=1.537) else 0)\n",
    "df['일방통행여부'] = df['보호구역도로폭'].apply(lambda x:1 if (x<4.749) else 0)\n",
    "\n",
    "# 보호구역 현황 관련\n",
    "df['최적의 구역지정 여부'] = df['구역지정수'].apply(lambda x: 1 if x<=2.5 else 0)\n",
    "df['1차선 이하'] = df['보호구역도로폭'].apply(lambda x: 1 if x<=7.9 else 0)\n",
    "df['최적의 과속방지턱 수'] = df['과속방지턱 수'].apply(lambda x: 1 if x<=43.5 else 0)\n",
    "df['표지판 8개이하'] = df['도로표지판 수'].apply(lambda x: 1 if x<=8.012 else 0)\n",
    "df['CCTV 3개이하'] = df['CCTV 수'].apply(lambda x:1 if x<=3 else 0)\n",
    "\n",
    "# 인구밀도 관련 \n",
    "df['인구밀집 수준'] = df['인구밀도'].apply(lambda x:1 if 2138.936<=x else 0)"
   ]
  },
  {
   "cell_type": "code",
   "execution_count": 74,
   "id": "029b37f1",
   "metadata": {},
   "outputs": [
    {
     "name": "stdout",
     "output_type": "stream",
     "text": [
      "<class 'pandas.core.frame.DataFrame'>\n",
      "RangeIndex: 36240 entries, 0 to 36239\n",
      "Data columns (total 55 columns):\n",
      " #   Column       Non-Null Count  Dtype  \n",
      "---  ------       --------------  -----  \n",
      " 0   시설명          36240 non-null  object \n",
      " 1   시간대구분        36240 non-null  int64  \n",
      " 2   주소           36240 non-null  object \n",
      " 3   도로명          36240 non-null  object \n",
      " 4   행정동          36240 non-null  object \n",
      " 5   행정동 별 인구     36240 non-null  int64  \n",
      " 6   면적           36240 non-null  float64\n",
      " 7   인구밀도         36240 non-null  int64  \n",
      " 8   자치구          36240 non-null  object \n",
      " 9   시설종류         36240 non-null  object \n",
      " 10  구역지정수        36240 non-null  int64  \n",
      " 11  보호구역도로폭      36240 non-null  float64\n",
      " 12  CCTV설치여부     36240 non-null  int64  \n",
      " 13  CCTV 수       36240 non-null  int64  \n",
      " 14  도로표지판 수      36240 non-null  float64\n",
      " 15  과속방지턱 수      36240 non-null  int64  \n",
      " 16  위도           36240 non-null  float64\n",
      " 17  경도           36240 non-null  float64\n",
      " 18  tmp          36240 non-null  object \n",
      " 19  속도           36240 non-null  float64\n",
      " 20  총생활인구수       36240 non-null  float64\n",
      " 21  사망자수         36240 non-null  float64\n",
      " 22  중상자수         36240 non-null  float64\n",
      " 23  경상자수         36240 non-null  float64\n",
      " 24  부상신고자수       36240 non-null  float64\n",
      " 25  가해운전자 차종     36240 non-null  float64\n",
      " 26  피해운전자 차종     36240 non-null  float64\n",
      " 27  피해운전자 연령     36240 non-null  float64\n",
      " 28  사고 수         36240 non-null  int64  \n",
      " 29  통행량 도로명      36240 non-null  object \n",
      " 30  통행량          36240 non-null  float64\n",
      " 31  오전/오후        36240 non-null  int64  \n",
      " 32  등하교시간        36240 non-null  int64  \n",
      " 33  출퇴근시간        36240 non-null  int64  \n",
      " 34  속도준수여부       36240 non-null  int64  \n",
      " 35  주변보호구역유무     36240 non-null  int64  \n",
      " 36  점심시간         36240 non-null  int64  \n",
      " 37  일출/일몰        36240 non-null  int64  \n",
      " 38  활동시간         36240 non-null  int64  \n",
      " 39  가해차종125cc이상  36240 non-null  int64  \n",
      " 40  피해차종엔진유무     36240 non-null  int64  \n",
      " 41  가해차종4륜유무     36240 non-null  int64  \n",
      " 42  어린이 피해 여부    36240 non-null  int64  \n",
      " 43  고령자 피해 여부    36240 non-null  int64  \n",
      " 44  피해자교통수단탑승유무  36240 non-null  int64  \n",
      " 45  보호구역초등학교여부   36240 non-null  int64  \n",
      " 46  피해자연령38세이하   36240 non-null  int64  \n",
      " 47  피해차량승합차량여부   36240 non-null  int64  \n",
      " 48  일방통행여부       36240 non-null  int64  \n",
      " 49  최적의 구역지정 여부  36240 non-null  int64  \n",
      " 50  1차선 이하       36240 non-null  int64  \n",
      " 51  최적의 과속방지턱 수  36240 non-null  int64  \n",
      " 52  표지판 8개이하     36240 non-null  int64  \n",
      " 53  CCTV 3개이하    36240 non-null  int64  \n",
      " 54  인구밀집 수준      36240 non-null  int64  \n",
      "dtypes: float64(15), int64(32), object(8)\n",
      "memory usage: 15.2+ MB\n"
     ]
    }
   ],
   "source": [
    "df.info()"
   ]
  },
  {
   "cell_type": "code",
   "execution_count": null,
   "id": "a8c9c935",
   "metadata": {},
   "outputs": [],
   "source": [
    "# 반경 350M 이내 보호구역\n",
    "df[\"주변보호구역유무\"]=0\n",
    "for i in range(len(df)):\n",
    "    for j in range(len(df)):\n",
    "        if 0<haversine((df.loc[i,\"위도\"],df.loc[i,\"경도\"]),(df.loc[j,\"위도\"],df.loc[j,\"경도\"]))<=0.35:\n",
    "            df.loc[i,\"주변보호구역유무\"]=1\n",
    "            break"
   ]
  },
  {
   "cell_type": "markdown",
   "id": "2f8a72e2",
   "metadata": {},
   "source": [
    "위험도에 들어가는 변수 전부 Min-Max Scaling 처리"
   ]
  },
  {
   "cell_type": "code",
   "execution_count": 73,
   "id": "b08e7569",
   "metadata": {},
   "outputs": [],
   "source": [
    "def MinMax(x):\n",
    "    _max = x.max()\n",
    "    _min = x.min()\n",
    "    _denominator = _max - _min\n",
    "    return (x- _min) / _denominator\n",
    "df['사망자수'] = MinMax(df['사망자수'])\n",
    "df['중상자수'] = MinMax(df['중상자수'])\n",
    "df['경상자수'] = MinMax(df['경상자수'])\n",
    "df['부상신고자수'] = MinMax(df['부상신고자수'])"
   ]
  },
  {
   "cell_type": "code",
   "execution_count": 75,
   "id": "13fb3705",
   "metadata": {},
   "outputs": [],
   "source": [
    "# 위험도 산정\n",
    "df['위험도'] = 0\n",
    "for i in range(len(df)):\n",
    "    df.loc[i,'위험도'] = df.loc[i,'사망자수']*15.39 + df.loc[i,'중상자수']*7.847 + df.loc[i,'경상자수']*3.87 + df.loc[i,'부상신고자수']*1.901+df.loc[i,'통행량']"
   ]
  },
  {
   "cell_type": "code",
   "execution_count": 76,
   "id": "ceb3fe01",
   "metadata": {},
   "outputs": [
    {
     "name": "stderr",
     "output_type": "stream",
     "text": [
      "C:\\Users\\wnrrh\\anaconda3\\lib\\site-packages\\seaborn\\distributions.py:2557: FutureWarning: `distplot` is a deprecated function and will be removed in a future version. Please adapt your code to use either `displot` (a figure-level function with similar flexibility) or `histplot` (an axes-level function for histograms).\n",
      "  warnings.warn(msg, FutureWarning)\n"
     ]
    },
    {
     "data": {
      "text/plain": [
       "Text(0.5, 1.0, '위험도 분포')"
      ]
     },
     "execution_count": 76,
     "metadata": {},
     "output_type": "execute_result"
    },
    {
     "data": {
      "image/png": "[encoded data removed]",
      "text/plain": [
       "<Figure size 576x360 with 1 Axes>"
      ]
     },
     "metadata": {
      "needs_background": "light"
     },
     "output_type": "display_data"
    }
   ],
   "source": [
    "# 산정한 위험도 분포\n",
    "plt.figure(figsize=(8,5))\n",
    "sns.distplot(df['위험도'])\n",
    "plt.title('위험도 분포',fontdict={'fontsize':15})"
   ]
  },
  {
   "cell_type": "code",
   "execution_count": 77,
   "id": "ded900be",
   "metadata": {},
   "outputs": [
    {
     "data": {
      "text/plain": [
       "count    36240.000000\n",
       "mean         0.273421\n",
       "std          0.410934\n",
       "min          0.000000\n",
       "25%          0.122484\n",
       "50%          0.215212\n",
       "75%          0.300350\n",
       "max         18.829941\n",
       "Name: 위험도, dtype: float64"
      ]
     },
     "execution_count": 77,
     "metadata": {},
     "output_type": "execute_result"
    }
   ],
   "source": [
    "df['위험도'].describe()"
   ]
  },
  {
   "cell_type": "code",
   "execution_count": 78,
   "id": "717a4cae",
   "metadata": {},
   "outputs": [],
   "source": [
    "## k-means clustering\n",
    "from sklearn.cluster import KMeans\n",
    "features = ['위험도']\n",
    "\n",
    "X = df[features]\n",
    "X_train = pd.get_dummies(X)\n",
    "\n",
    "model = KMeans(n_clusters=3, random_state=0)\n",
    "model.fit(X_train)\n",
    "y_pred = model.labels_\n",
    "\n",
    "df['cluster_label'] = y_pred"
   ]
  },
  {
   "cell_type": "code",
   "execution_count": 79,
   "id": "12cc9b79",
   "metadata": {},
   "outputs": [
    {
     "data": {
      "image/png": "[encoded data removed]",
      "text/plain": [
       "<Figure size 504x432 with 1 Axes>"
      ]
     },
     "metadata": {
      "needs_background": "light"
     },
     "output_type": "display_data"
    }
   ],
   "source": [
    "# 군집 수 확인 \n",
    "inertia_list = []\n",
    "for k in range(1,11):\n",
    "    model = KMeans(n_clusters=k)\n",
    "    model.fit(X)\n",
    "    inertia_list.append(model.inertia_)\n",
    "plt.figure(figsize=(7,6))\n",
    "plt.plot(range(1,11), inertia_list, marker='o')\n",
    "plt.xlabel(\"그룹 수\")\n",
    "plt.ylabel(\"inertia 값\")\n",
    "plt.show()"
   ]
  },
  {
   "cell_type": "code",
   "execution_count": 80,
   "id": "d9bacb91",
   "metadata": {},
   "outputs": [
    {
     "data": {
      "text/plain": [
       "<matplotlib.collections.PathCollection at 0x228d43e9550>"
      ]
     },
     "execution_count": 80,
     "metadata": {},
     "output_type": "execute_result"
    },
    {
     "data": {
      "image/png": "[encoded data removed]",
      "text/plain": [
       "<Figure size 432x288 with 1 Axes>"
      ]
     },
     "metadata": {
      "needs_background": "light"
     },
     "output_type": "display_data"
    }
   ],
   "source": [
    "plt.scatter(x = df[\"시간대구분\"], y = df[\"위험도\"], c=y_pred)"
   ]
  },
  {
   "cell_type": "code",
   "execution_count": 81,
   "id": "efefc070",
   "metadata": {},
   "outputs": [
    {
     "name": "stdout",
     "output_type": "stream",
     "text": [
      "-0.008715417706750802\n"
     ]
    }
   ],
   "source": [
    "print(df['총생활인구수'].corr(df['위험도']))"
   ]
  },
  {
   "cell_type": "code",
   "execution_count": 82,
   "id": "095baede",
   "metadata": {},
   "outputs": [
    {
     "data": {
      "image/png": "[encoded data removed]",
      "text/plain": [
       "<Figure size 576x360 with 1 Axes>"
      ]
     },
     "metadata": {
      "needs_background": "light"
     },
     "output_type": "display_data"
    }
   ],
   "source": [
    "# 클러스터링 결과 시각화\n",
    "plt.figure(figsize = (8,5))\n",
    "sns.lineplot(data=df[df['cluster_label']==0],x='시간대구분', y='위험도', ci=None, label='위험도 1단계')\n",
    "sns.lineplot(data=df[df['cluster_label']==1],x='시간대구분', y='위험도', ci=None, label='위험도 2단계')\n",
    "sns.lineplot(data=df[df['cluster_label']==2],x='시간대구분', y='위험도', ci=None, label='위험도 3단계')\n",
    "# sns.lineplot(data=df[df['cluster_label']==3],x='시간대구분', y='위험도', ci=None, label='위험도 4단계')\n",
    "# sns.lineplot(data=df[df['cluster_label']==4],x='시간대구분', y='위험도', ci=None, label='위험도 5단계')\n",
    "plt.title('시간에 따른 보호구역 위험도',fontdict = {'fontsize':15})\n",
    "plt.legend()\n",
    "plt.show()"
   ]
  },
  {
   "cell_type": "code",
   "execution_count": 83,
   "id": "56f6a544",
   "metadata": {},
   "outputs": [],
   "source": [
    "df['위험도 군집'] = df['cluster_label'].apply(lambda x :1 if x==0 else (2 if x==1 else 3))"
   ]
  },
  {
   "cell_type": "code",
   "execution_count": 84,
   "id": "5df52439",
   "metadata": {},
   "outputs": [
    {
     "data": {
      "text/plain": [
       "1    35584\n",
       "2      644\n",
       "3       12\n",
       "Name: 위험도 군집, dtype: int64"
      ]
     },
     "execution_count": 84,
     "metadata": {},
     "output_type": "execute_result"
    }
   ],
   "source": [
    "df['위험도 군집'].value_counts()"
   ]
  },
  {
   "cell_type": "code",
   "execution_count": 85,
   "id": "370cfc12",
   "metadata": {},
   "outputs": [
    {
     "name": "stdout",
     "output_type": "stream",
     "text": [
      "<class 'pandas.core.frame.DataFrame'>\n",
      "RangeIndex: 36240 entries, 0 to 36239\n",
      "Data columns (total 58 columns):\n",
      " #   Column         Non-Null Count  Dtype  \n",
      "---  ------         --------------  -----  \n",
      " 0   시설명            36240 non-null  object \n",
      " 1   시간대구분          36240 non-null  int64  \n",
      " 2   주소             36240 non-null  object \n",
      " 3   도로명            36240 non-null  object \n",
      " 4   행정동            36240 non-null  object \n",
      " 5   행정동 별 인구       36240 non-null  int64  \n",
      " 6   면적             36240 non-null  float64\n",
      " 7   인구밀도           36240 non-null  int64  \n",
      " 8   자치구            36240 non-null  object \n",
      " 9   시설종류           36240 non-null  object \n",
      " 10  구역지정수          36240 non-null  int64  \n",
      " 11  보호구역도로폭        36240 non-null  float64\n",
      " 12  CCTV설치여부       36240 non-null  int64  \n",
      " 13  CCTV 수         36240 non-null  int64  \n",
      " 14  도로표지판 수        36240 non-null  float64\n",
      " 15  과속방지턱 수        36240 non-null  int64  \n",
      " 16  위도             36240 non-null  float64\n",
      " 17  경도             36240 non-null  float64\n",
      " 18  tmp            36240 non-null  object \n",
      " 19  속도             36240 non-null  float64\n",
      " 20  총생활인구수         36240 non-null  float64\n",
      " 21  사망자수           36240 non-null  float64\n",
      " 22  중상자수           36240 non-null  float64\n",
      " 23  경상자수           36240 non-null  float64\n",
      " 24  부상신고자수         36240 non-null  float64\n",
      " 25  가해운전자 차종       36240 non-null  float64\n",
      " 26  피해운전자 차종       36240 non-null  float64\n",
      " 27  피해운전자 연령       36240 non-null  float64\n",
      " 28  사고 수           36240 non-null  int64  \n",
      " 29  통행량 도로명        36240 non-null  object \n",
      " 30  통행량            36240 non-null  float64\n",
      " 31  오전/오후          36240 non-null  int64  \n",
      " 32  등하교시간          36240 non-null  int64  \n",
      " 33  출퇴근시간          36240 non-null  int64  \n",
      " 34  속도준수여부         36240 non-null  int64  \n",
      " 35  주변보호구역유무       36240 non-null  int64  \n",
      " 36  점심시간           36240 non-null  int64  \n",
      " 37  일출/일몰          36240 non-null  int64  \n",
      " 38  활동시간           36240 non-null  int64  \n",
      " 39  가해차종125cc이상    36240 non-null  int64  \n",
      " 40  피해차종엔진유무       36240 non-null  int64  \n",
      " 41  가해차종4륜유무       36240 non-null  int64  \n",
      " 42  어린이 피해 여부      36240 non-null  int64  \n",
      " 43  고령자 피해 여부      36240 non-null  int64  \n",
      " 44  피해자교통수단탑승유무    36240 non-null  int64  \n",
      " 45  보호구역초등학교여부     36240 non-null  int64  \n",
      " 46  피해자연령38세이하     36240 non-null  int64  \n",
      " 47  피해차량승합차량여부     36240 non-null  int64  \n",
      " 48  일방통행여부         36240 non-null  int64  \n",
      " 49  최적의 구역지정 여부    36240 non-null  int64  \n",
      " 50  1차선 이하         36240 non-null  int64  \n",
      " 51  최적의 과속방지턱 수    36240 non-null  int64  \n",
      " 52  표지판 8개이하       36240 non-null  int64  \n",
      " 53  CCTV 3개이하      36240 non-null  int64  \n",
      " 54  인구밀집 수준        36240 non-null  int64  \n",
      " 55  위험도            36240 non-null  float64\n",
      " 56  cluster_label  36240 non-null  int32  \n",
      " 57  위험도 군집         36240 non-null  int64  \n",
      "dtypes: float64(16), int32(1), int64(33), object(8)\n",
      "memory usage: 15.9+ MB\n"
     ]
    }
   ],
   "source": [
    "df.info()"
   ]
  },
  {
   "cell_type": "code",
   "execution_count": 87,
   "id": "3c1b111a",
   "metadata": {},
   "outputs": [],
   "source": [
    "# dtype 변환\n",
    "df.dtypes\n",
    "\n",
    "df['시간대구분'] = df['시간대구분'].astype('float')\n",
    "df['행정동 별 인구'] = df['행정동 별 인구'].astype('float')\n",
    "df['인구밀도'] = df['인구밀도'].astype('float')\n",
    "df['구역지정수'] = df['구역지정수'].astype('float')\n",
    "df['CCTV설치여부'] = df['CCTV설치여부'].astype('float')\n",
    "df['CCTV 수'] = df['CCTV 수'].astype('float')\n",
    "df['과속방지턱 수'] = df['과속방지턱 수'].astype('float')\n",
    "df['사고 수'] = df['사고 수'].astype('float')\n",
    "df['오전/오후'] = df['오전/오후'].astype('float')\n",
    "df['등하교시간'] = df['등하교시간'].astype('float')\n",
    "df['출퇴근시간'] = df['출퇴근시간'].astype('float')\n",
    "df['활동시간'] = df['활동시간'].astype('float')\n",
    "df['속도준수여부'] = df['속도준수여부'].astype('float')\n",
    "df['주변보호구역유무'] = df['주변보호구역유무'].astype('float')\n",
    "df['점심시간'] = df['점심시간'].astype('float')\n",
    "df['일출/일몰'] = df['일출/일몰'].astype('float')\n",
    "df['가해차종125cc이상'] = df['가해차종125cc이상'].astype('float')\n",
    "df['피해차종엔진유무'] = df['피해차종엔진유무'].astype('float')\n",
    "df['가해차종4륜유무'] = df['가해차종4륜유무'].astype('float')\n",
    "df['어린이 피해 여부'] = df['어린이 피해 여부'].astype('float')\n",
    "df['고령자 피해 여부'] = df['고령자 피해 여부'].astype('float')\n",
    "df['피해자교통수단탑승유무']=df['피해자교통수단탑승유무'].astype('float')\n",
    "df['보호구역초등학교여부'] = df['보호구역초등학교여부'].astype('float')\n",
    "df['피해자연령38세이하'] = df['피해자연령38세이하'].astype('float')\n",
    "df['피해차량승합차량여부'] = df['피해차량승합차량여부'].astype('float')\n",
    "df['일방통행여부'] = df['일방통행여부'].astype('float')\n",
    "df['최적의 구역지정 여부'] = df['최적의 구역지정 여부'].astype('float')\n",
    "df['1차선 이하'] = df['1차선 이하'].astype('float')\n",
    "df['최적의 과속방지턱 수'] = df['최적의 과속방지턱 수'].astype('float')\n",
    "df['표지판 8개이하'] = df['표지판 8개이하'].astype('float')\n",
    "df['CCTV 3개이하'] = df['CCTV 3개이하'].astype('float')\n",
    "df['인구밀집 수준'] = df['인구밀집 수준'].astype('float')\n"
   ]
  },
  {
   "cell_type": "code",
   "execution_count": 88,
   "id": "872d00d4",
   "metadata": {},
   "outputs": [],
   "source": [
    "df = df.astype({'위험도 군집' : 'float'})"
   ]
  },
  {
   "cell_type": "code",
   "execution_count": 89,
   "id": "8c081895",
   "metadata": {},
   "outputs": [
    {
     "name": "stdout",
     "output_type": "stream",
     "text": [
      "<class 'pandas.core.frame.DataFrame'>\n",
      "RangeIndex: 36240 entries, 0 to 36239\n",
      "Data columns (total 58 columns):\n",
      " #   Column         Non-Null Count  Dtype  \n",
      "---  ------         --------------  -----  \n",
      " 0   시설명            36240 non-null  object \n",
      " 1   시간대구분          36240 non-null  float64\n",
      " 2   주소             36240 non-null  object \n",
      " 3   도로명            36240 non-null  object \n",
      " 4   행정동            36240 non-null  object \n",
      " 5   행정동 별 인구       36240 non-null  float64\n",
      " 6   면적             36240 non-null  float64\n",
      " 7   인구밀도           36240 non-null  float64\n",
      " 8   자치구            36240 non-null  object \n",
      " 9   시설종류           36240 non-null  object \n",
      " 10  구역지정수          36240 non-null  float64\n",
      " 11  보호구역도로폭        36240 non-null  float64\n",
      " 12  CCTV설치여부       36240 non-null  float64\n",
      " 13  CCTV 수         36240 non-null  float64\n",
      " 14  도로표지판 수        36240 non-null  float64\n",
      " 15  과속방지턱 수        36240 non-null  float64\n",
      " 16  위도             36240 non-null  float64\n",
      " 17  경도             36240 non-null  float64\n",
      " 18  tmp            36240 non-null  object \n",
      " 19  속도             36240 non-null  float64\n",
      " 20  총생활인구수         36240 non-null  float64\n",
      " 21  사망자수           36240 non-null  float64\n",
      " 22  중상자수           36240 non-null  float64\n",
      " 23  경상자수           36240 non-null  float64\n",
      " 24  부상신고자수         36240 non-null  float64\n",
      " 25  가해운전자 차종       36240 non-null  float64\n",
      " 26  피해운전자 차종       36240 non-null  float64\n",
      " 27  피해운전자 연령       36240 non-null  float64\n",
      " 28  사고 수           36240 non-null  float64\n",
      " 29  통행량 도로명        36240 non-null  object \n",
      " 30  통행량            36240 non-null  float64\n",
      " 31  오전/오후          36240 non-null  float64\n",
      " 32  등하교시간          36240 non-null  float64\n",
      " 33  출퇴근시간          36240 non-null  float64\n",
      " 34  속도준수여부         36240 non-null  float64\n",
      " 35  주변보호구역유무       36240 non-null  float64\n",
      " 36  점심시간           36240 non-null  float64\n",
      " 37  일출/일몰          36240 non-null  float64\n",
      " 38  활동시간           36240 non-null  float64\n",
      " 39  가해차종125cc이상    36240 non-null  float64\n",
      " 40  피해차종엔진유무       36240 non-null  float64\n",
      " 41  가해차종4륜유무       36240 non-null  float64\n",
      " 42  어린이 피해 여부      36240 non-null  float64\n",
      " 43  고령자 피해 여부      36240 non-null  float64\n",
      " 44  피해자교통수단탑승유무    36240 non-null  float64\n",
      " 45  보호구역초등학교여부     36240 non-null  float64\n",
      " 46  피해자연령38세이하     36240 non-null  float64\n",
      " 47  피해차량승합차량여부     36240 non-null  float64\n",
      " 48  일방통행여부         36240 non-null  float64\n",
      " 49  최적의 구역지정 여부    36240 non-null  float64\n",
      " 50  1차선 이하         36240 non-null  float64\n",
      " 51  최적의 과속방지턱 수    36240 non-null  float64\n",
      " 52  표지판 8개이하       36240 non-null  float64\n",
      " 53  CCTV 3개이하      36240 non-null  float64\n",
      " 54  인구밀집 수준        36240 non-null  float64\n",
      " 55  위험도            36240 non-null  float64\n",
      " 56  cluster_label  36240 non-null  int32  \n",
      " 57  위험도 군집         36240 non-null  float64\n",
      "dtypes: float64(49), int32(1), object(8)\n",
      "memory usage: 15.9+ MB\n"
     ]
    }
   ],
   "source": [
    "df.info()"
   ]
  },
  {
   "cell_type": "markdown",
   "id": "5ad9df44",
   "metadata": {},
   "source": [
    "df.to_excel('C:/Users/wnrrh/desktop/data/개선/위험도 단계별.xlsx')"
   ]
  },
  {
   "cell_type": "markdown",
   "id": "bfb2ecac",
   "metadata": {},
   "source": [
    "# Random Forest"
   ]
  },
  {
   "cell_type": "markdown",
   "id": "b388125b",
   "metadata": {},
   "source": [
    "pip install imblearn"
   ]
  },
  {
   "cell_type": "code",
   "execution_count": 131,
   "id": "a4db4ea1",
   "metadata": {},
   "outputs": [],
   "source": [
    "from sklearn.model_selection import GridSearchCV, RandomizedSearchCV, cross_val_score, train_test_split\n",
    "from sklearn.pipeline import make_pipeline, Pipeline\n",
    "from sklearn.preprocessing import StandardScaler\n",
    "from sklearn.preprocessing import OneHotEncoder, LabelEncoder\n",
    "from sklearn.compose import ColumnTransformer\n",
    "from sklearn.metrics import make_scorer, precision_score, f1_score, recall_score, accuracy_score, average_precision_score # Evaluation\n",
    "from sklearn.metrics import precision_score, recall_score, classification_report\n",
    "from sklearn.ensemble import RandomForestClassifier\n",
    "from sklearn.datasets import make_moons\n",
    "from sklearn.ensemble import RandomForestRegressor\n",
    "from imblearn.over_sampling import *\n",
    "from imblearn.over_sampling import SMOTE\n",
    "# 모델 저장 라이브러리\n",
    "from sklearn import datasets\n",
    "import pickle\n",
    "import joblib"
   ]
  },
  {
   "cell_type": "code",
   "execution_count": 132,
   "id": "72413d22",
   "metadata": {},
   "outputs": [],
   "source": [
    "# 입력 변수 생성\n",
    "features = df.columns\n",
    "X = df[features].drop(['시설명','시간대구분','주소','자치구','행정동','통행량 도로명','tmp','도로명','시설종류','위도','경도','위험도','cluster_label',\n",
    "    '사고 수','통행량','사망자수','부상신고자수','중상자수','경상자수','위험도 군집','구역지정수','보호구역도로폭','도로표지판 수','과속방지턱 수',\n",
    "    '속도','가해운전자 차종','피해운전자 연령','피해운전자 차종','총생활인구수','인구밀도','행정동 별 인구', '면적'],axis=1)\n",
    "\n",
    "Y = df['위험도 군집']"
   ]
  },
  {
   "cell_type": "code",
   "execution_count": 133,
   "id": "83187087",
   "metadata": {},
   "outputs": [],
   "source": [
    "# 연속형 변수 \n",
    "numeric_features = X.select_dtypes(\"float\").columns.to_list()\n",
    "numeric_transformer = Pipeline(steps=[('scaler', StandardScaler())])\n",
    "\n",
    "# 범주형 변수 처리\n",
    "categorical_features = X.select_dtypes(\"object\").columns.to_list()\n",
    "categorical_transformer = Pipeline(steps=[('onehot', OneHotEncoder(handle_unknown='ignore'))])\n",
    "\n",
    "#컬럼 변환\n",
    "preprocessor = ColumnTransformer(\n",
    "    transformers=[\n",
    "        ('num', numeric_transformer, numeric_features)])\n",
    "        # ('cat', categorical_transformer, categorical_features)])\n"
   ]
  },
  {
   "cell_type": "code",
   "execution_count": 134,
   "id": "200b2922",
   "metadata": {},
   "outputs": [],
   "source": [
    "# Training / Test\n",
    "X_train, X_test, Y_train, Y_test = train_test_split(X, Y, test_size=0.2, random_state=0)\n",
    "Y_train = Y_train.astype('int')   "
   ]
  },
  {
   "cell_type": "code",
   "execution_count": 135,
   "id": "cf1d6d5a",
   "metadata": {},
   "outputs": [
    {
     "name": "stdout",
     "output_type": "stream",
     "text": [
      "테스트 정확도: 0.9836\n"
     ]
    },
    {
     "data": {
      "image/png": "[encoded data removed]",
      "text/plain": [
       "<Figure size 720x720 with 1 Axes>"
      ]
     },
     "metadata": {
      "needs_background": "light"
     },
     "output_type": "display_data"
    }
   ],
   "source": [
    "# 랜덤 포레스트 변수 중요도\n",
    "\n",
    "# random forest pipeline\n",
    "pipe = make_pipeline(preprocessor,RandomForestClassifier(random_state=0))\n",
    "pipe.fit(X_train,Y_train)\n",
    "y_pred = pipe.predict(X_test)\n",
    "print('테스트 정확도: %.4f'% pipe.score(X_test,Y_test))\n",
    "\n",
    "# 변수 중요도\n",
    "rf = RandomForestClassifier(random_state=0)\n",
    "rf.fit(pd.get_dummies(X_train),Y_train)\n",
    "importances = rf.feature_importances_\n",
    "indices = np.argsort(importances)\n",
    "\n",
    "plt.figure(figsize=(10,10))\n",
    "plt.title('변수 중요도')\n",
    "plt.barh(range(len(indices)), importances[indices],color = 'tab:blue', align ='center')\n",
    "plt.yticks(range(len(indices)), [pd.get_dummies(X_train).columns[i] for i in indices])\n",
    "plt.xlabel('상대적 중요도')\n",
    "plt.show()"
   ]
  },
  {
   "cell_type": "markdown",
   "id": "88321ec8",
   "metadata": {},
   "source": [
    "# Support Vector Machine"
   ]
  },
  {
   "cell_type": "code",
   "execution_count": 29,
   "id": "a3d10dde",
   "metadata": {},
   "outputs": [],
   "source": [
    "# Training / Test\n",
    "X_train, X_test, Y_train, Y_test = train_test_split(X, Y, test_size=0.2, random_state=0)\n",
    "Y_train = Y_train.astype('int')   "
   ]
  },
  {
   "cell_type": "code",
   "execution_count": 30,
   "id": "e764ee22",
   "metadata": {},
   "outputs": [
    {
     "ename": "NameError",
     "evalue": "name 'gs_svm' is not defined",
     "output_type": "error",
     "traceback": [
      "\u001b[1;31m---------------------------------------------------------------------------\u001b[0m",
      "\u001b[1;31mNameError\u001b[0m                                 Traceback (most recent call last)",
      "\u001b[1;32m<ipython-input-30-5deb6318a560>\u001b[0m in \u001b[0;36m<module>\u001b[1;34m\u001b[0m\n\u001b[0;32m      4\u001b[0m \u001b[1;33m\u001b[0m\u001b[0m\n\u001b[0;32m      5\u001b[0m \u001b[1;31m# Parameter list\u001b[0m\u001b[1;33m\u001b[0m\u001b[1;33m\u001b[0m\u001b[1;33m\u001b[0m\u001b[0m\n\u001b[1;32m----> 6\u001b[1;33m \u001b[0mgs_svm\u001b[0m\u001b[1;33m.\u001b[0m\u001b[0mget_params\u001b[0m\u001b[1;33m(\u001b[0m\u001b[1;33m)\u001b[0m\u001b[1;33m.\u001b[0m\u001b[0mkeys\u001b[0m\u001b[1;33m(\u001b[0m\u001b[1;33m)\u001b[0m\u001b[1;33m\u001b[0m\u001b[1;33m\u001b[0m\u001b[0m\n\u001b[0m\u001b[0;32m      7\u001b[0m parameters = [{'svc_C': [1,5,10,50,100],\n\u001b[0;32m      8\u001b[0m             \u001b[1;34m'svc_gamma'\u001b[0m\u001b[1;33m:\u001b[0m\u001b[1;33m[\u001b[0m\u001b[1;36m0.001\u001b[0m\u001b[1;33m,\u001b[0m\u001b[1;36m0.01\u001b[0m\u001b[1;33m,\u001b[0m\u001b[1;36m0.1\u001b[0m\u001b[1;33m,\u001b[0m\u001b[1;36m1\u001b[0m\u001b[1;33m]\u001b[0m\u001b[1;33m,\u001b[0m\u001b[1;33m\u001b[0m\u001b[1;33m\u001b[0m\u001b[0m\n",
      "\u001b[1;31mNameError\u001b[0m: name 'gs_svm' is not defined"
     ]
    }
   ],
   "source": [
    "from sklearn.svm import SVC\n",
    "\n",
    "pipe_svm = make_pipeline(preprocessor,SVC())\n",
    "\n",
    "# Parameter list\n",
    "gs_svm.get_params().keys()\n",
    "parameters = [{'svc_C': [1,5,10,50,100],\n",
    "            'svc_gamma':[0.001,0.01,0.1,1],\n",
    "            'svc_kernel':['rbf']}]\n",
    "\n",
    "scorers = {'accuracy':make_scorer(accuracy_score),\n",
    "         'precision': make_scorer(precision_score, average = 'macro'),\n",
    "         'recall':make_scorer(recall_score, average = 'macro'),\n",
    "         'f1_macro': make_scorer(f1_score, average ='macro'),\n",
    "          'f1_weighted':make_scorer(f1_score, average='weighted')}\n",
    "\n",
    "# GridSearch\n",
    "gs_svm = GridSearchCV(pipe_svm,param_grid = parameters, scoring = scorers,\n",
    "                      refit = 'f1_weighted',cv = 50, n_jobs=-1)\n",
    "\n",
    "\n",
    "gs_svm.fit(X_train,Y_train)\n",
    "\n",
    "print('최적 매개변수 조합 :%s' %gs_svm.best_params_)\n",
    "print('CV 정확도 : %4f'%gs_svm.best_score_)\n",
    "\n",
    "em = gs_svm.best_estimator_\n",
    "pred = em.pred(X_val)\n",
    "accuracy_score(Y_val,pred)\n",
    "# print('테스트 정확도: %3f' % clf_svm.score(X_test,Y_test))"
   ]
  },
  {
   "cell_type": "code",
   "execution_count": null,
   "id": "798c4a2c",
   "metadata": {},
   "outputs": [],
   "source": [
    "print(classification_report(Y_test, clf_svm.predict(X_test)))"
   ]
  },
  {
   "cell_type": "markdown",
   "id": "b5227ca5",
   "metadata": {},
   "source": [
    "# LightGBM"
   ]
  },
  {
   "cell_type": "markdown",
   "id": "3a26d461",
   "metadata": {},
   "source": [
    "pip install lightgbm"
   ]
  },
  {
   "cell_type": "code",
   "execution_count": 136,
   "id": "e1e4f4ba",
   "metadata": {},
   "outputs": [],
   "source": [
    "# 연속형 변수 \n",
    "numeric_features = X.select_dtypes(\"float\").columns.to_list()\n",
    "numeric_transformer = Pipeline(steps=[('scaler', StandardScaler())])\n",
    "\n",
    "# 범주형 변수 처리\n",
    "categorical_features = X.select_dtypes(\"object\").columns.to_list()\n",
    "categorical_transformer = Pipeline(steps=[('onehot', OneHotEncoder(handle_unknown='ignore'))])\n",
    "\n",
    "#컬럼 변환\n",
    "preprocessor = ColumnTransformer(\n",
    "    transformers=[\n",
    "        ('num', numeric_transformer, numeric_features),\n",
    "        ('cat', categorical_transformer, categorical_features)])"
   ]
  },
  {
   "cell_type": "markdown",
   "id": "d4f14bea",
   "metadata": {},
   "source": [
    "df.to_excel('C:/Users/wnrrh/desktop/data/모델링/model_make.xlsx')"
   ]
  },
  {
   "cell_type": "markdown",
   "id": "fdf33ed6",
   "metadata": {},
   "source": [
    "df2에 LGB 모델 구축을 위한 새로운 엑셀 데이터 생성. "
   ]
  },
  {
   "cell_type": "code",
   "execution_count": 137,
   "id": "45e83ec9",
   "metadata": {},
   "outputs": [
    {
     "name": "stdout",
     "output_type": "stream",
     "text": [
      "<class 'pandas.core.frame.DataFrame'>\n",
      "RangeIndex: 36240 entries, 0 to 36239\n",
      "Data columns (total 58 columns):\n",
      " #   Column         Non-Null Count  Dtype   \n",
      "---  ------         --------------  -----   \n",
      " 0   시설명            36240 non-null  object  \n",
      " 1   시간대구분          36240 non-null  float64 \n",
      " 2   주소             36240 non-null  object  \n",
      " 3   도로명            36240 non-null  object  \n",
      " 4   행정동            36240 non-null  object  \n",
      " 5   행정동 별 인구       36240 non-null  float64 \n",
      " 6   면적             36240 non-null  float64 \n",
      " 7   인구밀도           36240 non-null  float64 \n",
      " 8   자치구            36240 non-null  object  \n",
      " 9   시설종류           36240 non-null  int64   \n",
      " 10  구역지정수          36240 non-null  float64 \n",
      " 11  보호구역도로폭        36240 non-null  float64 \n",
      " 12  CCTV설치여부       36240 non-null  category\n",
      " 13  CCTV 수         36240 non-null  float64 \n",
      " 14  도로표지판 수        36240 non-null  float64 \n",
      " 15  과속방지턱 수        36240 non-null  float64 \n",
      " 16  위도             36240 non-null  float64 \n",
      " 17  경도             36240 non-null  float64 \n",
      " 18  tmp            36240 non-null  object  \n",
      " 19  속도             36240 non-null  category\n",
      " 20  총생활인구수         36240 non-null  float64 \n",
      " 21  사망자수           36240 non-null  float64 \n",
      " 22  중상자수           36240 non-null  float64 \n",
      " 23  경상자수           36240 non-null  float64 \n",
      " 24  부상신고자수         36240 non-null  float64 \n",
      " 25  가해운전자 차종       36240 non-null  float64 \n",
      " 26  피해운전자 차종       36240 non-null  float64 \n",
      " 27  피해운전자 연령       36240 non-null  float64 \n",
      " 28  사고 수           36240 non-null  float64 \n",
      " 29  통행량 도로명        36240 non-null  object  \n",
      " 30  통행량            36240 non-null  float64 \n",
      " 31  오전/오후          36240 non-null  category\n",
      " 32  등하교시간          36240 non-null  category\n",
      " 33  출퇴근시간          36240 non-null  category\n",
      " 34  속도준수여부         36240 non-null  category\n",
      " 35  주변보호구역유무       36240 non-null  category\n",
      " 36  점심시간           36240 non-null  category\n",
      " 37  일출/일몰          36240 non-null  category\n",
      " 38  활동시간           36240 non-null  category\n",
      " 39  가해차종125cc이상    36240 non-null  category\n",
      " 40  피해차종엔진유무       36240 non-null  category\n",
      " 41  가해차종4륜유무       36240 non-null  category\n",
      " 42  어린이 피해 여부      36240 non-null  category\n",
      " 43  고령자 피해 여부      36240 non-null  category\n",
      " 44  피해자교통수단탑승유무    36240 non-null  category\n",
      " 45  보호구역초등학교여부     36240 non-null  category\n",
      " 46  피해자연령38세이하     36240 non-null  category\n",
      " 47  피해차량승합차량여부     36240 non-null  category\n",
      " 48  일방통행여부         36240 non-null  category\n",
      " 49  최적의 구역지정 여부    36240 non-null  category\n",
      " 50  1차선 이하         36240 non-null  category\n",
      " 51  최적의 과속방지턱 수    36240 non-null  category\n",
      " 52  표지판 8개이하       36240 non-null  category\n",
      " 53  CCTV 3개이하      36240 non-null  category\n",
      " 54  인구밀집 수준        36240 non-null  category\n",
      " 55  위험도            36240 non-null  float64 \n",
      " 56  cluster_label  36240 non-null  int32   \n",
      " 57  위험도 군집         36240 non-null  category\n",
      "dtypes: category(27), float64(22), int32(1), int64(1), object(7)\n",
      "memory usage: 9.7+ MB\n"
     ]
    }
   ],
   "source": [
    "df.info()"
   ]
  },
  {
   "cell_type": "code",
   "execution_count": 139,
   "id": "b8546a44",
   "metadata": {},
   "outputs": [],
   "source": [
    "# Categorical Parameters encoding\n",
    "from imblearn.over_sampling import SMOTE\n",
    "\n",
    "labelencoder = LabelEncoder()\n",
    "df['시설종류'] = labelencoder.fit_transform(df['시설종류']) \n",
    "#어린이집:! / 유치원(병설):3 / 유치원(일반):4 / 유치원:2 / 특수학교:6  \n",
    "# 초등학교:5 / 학원:7 기타:0\n",
    "cat_features = ['인구밀집 수준','CCTV설치여부','오전/오후','등하교시간','출퇴근시간','속도준수여부','점심시간',\n",
    "                '일출/일몰','가해차종125cc이상','피해차종엔진유무','어린이 피해 여부','고령자 피해 여부','최적의 구역지정 여부',\n",
    "                '주변보호구역유무','1차선 이하','최적의 과속방지턱 수','표지판 8개이하','가해차종4륜유무','피해자교통수단탑승유무',\n",
    "                '피해자연령38세이하','피해차량승합차량여부','CCTV 3개이하','보호구역초등학교여부','활동시간','일방통행여부']\n",
    "\n",
    "for col in cat_features:\n",
    "    df[col] = df[col].astype('category')\n",
    "    \n",
    "def split(df):\n",
    "    df_y = df['위험도 군집']\n",
    "    df_x = df.drop(['시설명','주소','도로명','행정동','행정동 별 인구','면적','인구밀도','자치구','구역지정수','보호구역도로폭','CCTV 수',\n",
    "                    '도로표지판 수','과속방지턱 수','위도','경도','tmp','사망자수','경상자수','중상자수','부상신고자수','가해운전자 차종',\n",
    "                    '피해운전자 차종','피해운전자 연령','사고 수','통행량 도로명','통행량','시간대구분','속도','총생활인구수','시설종류',\n",
    "                    '위험도 군집','cluster_label','위험도'],axis=1, inplace=False)\n",
    "\n",
    "    X_train,X_test,Y_train,Y_test = train_test_split(df_x,df_y,test_size=0.2, stratify=df_y,random_state=0)\n",
    "    \n",
    "    \n",
    "    return X_train,X_test,Y_train,Y_test\n",
    "smote = SMOTE(random_state=0)\n",
    "x_train_over, y_train_over = smote.fit_resample(X_train,Y_train)\n",
    "X_train,X_test,Y_train,Y_test = split(df)\n",
    "\n",
    "# X_train,Y_train = ADASYN(random_state=25).fit_resample(X_train,Y_train)"
   ]
  },
  {
   "cell_type": "code",
   "execution_count": 140,
   "id": "249050a7",
   "metadata": {},
   "outputs": [
    {
     "name": "stdout",
     "output_type": "stream",
     "text": [
      "(28992, 25) (28992,)\n"
     ]
    }
   ],
   "source": [
    "print(X_train.shape,Y_train.shape)"
   ]
  },
  {
   "cell_type": "code",
   "execution_count": 141,
   "id": "4b5e4ef4",
   "metadata": {},
   "outputs": [
    {
     "name": "stderr",
     "output_type": "stream",
     "text": [
      "C:\\Users\\wnrrh\\anaconda3\\lib\\site-packages\\lightgbm\\engine.py:177: UserWarning: Found `num_iteration` in params. Will use it instead of argument\n",
      "  _log_warning(f\"Found `{alias}` in params. Will use it instead of argument\")\n",
      "C:\\Users\\wnrrh\\anaconda3\\lib\\site-packages\\lightgbm\\engine.py:177: UserWarning: Found `num_iterations` in params. Will use it instead of argument\n",
      "  _log_warning(f\"Found `{alias}` in params. Will use it instead of argument\")\n",
      "C:\\Users\\wnrrh\\anaconda3\\lib\\site-packages\\lightgbm\\basic.py:1487: UserWarning: categorical_feature keyword has been found in `params` and will be ignored.\n",
      "Please use categorical_feature argument of the Dataset constructor to pass this parameter.\n",
      "  _log_warning(f'{key} keyword has been found in `params` and will be ignored.\\n'\n",
      "C:\\Users\\wnrrh\\anaconda3\\lib\\site-packages\\lightgbm\\basic.py:1513: UserWarning: categorical_feature in param dict is overridden.\n",
      "  _log_warning(f'{cat_alias} in param dict is overridden.')\n"
     ]
    },
    {
     "name": "stdout",
     "output_type": "stream",
     "text": [
      "[LightGBM] [Warning] min_data_in_leaf is set with min_child_samples=20, will be overridden by min_data=50. Current value: min_data_in_leaf=50\n",
      "[LightGBM] [Warning] num_iterations is set=1000, num_iteration=1000 will be ignored. Current value: num_iterations=1000\n"
     ]
    }
   ],
   "source": [
    "# LightGBM\n",
    "\n",
    "from lightgbm import LGBMClassifier\n",
    "import lightgbm as lgb\n",
    "\n",
    "# 파라미터 값 설정\n",
    "params = {'learning_rate':0.05,\n",
    "          'max_depth': 10,\n",
    "          'num_iterations':1000,\n",
    "          'boosting_type':'gbdt',\n",
    "          \n",
    "          'sub_feature':0.5,\n",
    "          'num_leaves' : 10,\n",
    "          'min_data':50,\n",
    "          'min_child_samples':20,\n",
    "          'subsample':0.8\n",
    "         }\n",
    "\n",
    "# 그리드서칭 시행할 하이퍼파라미터\n",
    "gridParams = {'max_depth':[3,5,7],\n",
    "            'learning_rate':[0.01, 0.05, 0.1, 0.2],\n",
    "            'num_iteration':[1000],\n",
    "            'min_child_weight':[5,10,20]}\n",
    "\n",
    "# 측도 다양하게 사용\n",
    "scorers = {'accuracy': make_scorer(accuracy_score),\n",
    "    'precision': make_scorer(precision_score, average='macro'),\n",
    "    'recall': make_scorer(recall_score, average = 'macro'),\n",
    "    'f1_macro': make_scorer(f1_score, average = 'macro'),\n",
    "    'f1_weighted': make_scorer(f1_score, average = 'weighted')}\n",
    "\n",
    "\n",
    "# 모델 만들기 \n",
    "lgb_model_GS = lgb.LGBMClassifier(boosting_type= 'gbdt', objective='multiclass', metric='multi_logloss', num_class=3, categorical_feature=cat_features,\n",
    "                               learning_rate = params['learning_rate'], max_depth = params['max_depth'], num_iterations = params['num_iterations'], \n",
    "                               num_leaves = params['num_leaves'], \n",
    "                               min_data = params['min_data'], min_child_samples = params['min_child_samples'], subsample=params['subsample'],\n",
    "                               n_jobs = 6, random_state =2020)  \n",
    "# 그리드 만들기\n",
    "grid = GridSearchCV(lgb_model_GS, gridParams, scoring=scorers, refit='f1_weighted', return_train_score=True,\n",
    "                    verbose=0, cv=2, n_jobs=2)\n",
    "\n",
    "# 그리드 실행\n",
    "grid.fit(X_train, Y_train) \n",
    "\n",
    "# GridSearchCV 결과를 추출해 데이터 프레임으로 반환\n",
    "scores_df = pd.DataFrame(grid.cv_results_)"
   ]
  },
  {
   "cell_type": "code",
   "execution_count": 142,
   "id": "ff76bd34",
   "metadata": {},
   "outputs": [
    {
     "name": "stderr",
     "output_type": "stream",
     "text": [
      "C:\\Users\\wnrrh\\anaconda3\\lib\\site-packages\\lightgbm\\engine.py:177: UserWarning: Found `num_iterations` in params. Will use it instead of argument\n",
      "  _log_warning(f\"Found `{alias}` in params. Will use it instead of argument\")\n",
      "C:\\Users\\wnrrh\\anaconda3\\lib\\site-packages\\lightgbm\\basic.py:1487: UserWarning: categorical_feature keyword has been found in `params` and will be ignored.\n",
      "Please use categorical_feature argument of the Dataset constructor to pass this parameter.\n",
      "  _log_warning(f'{key} keyword has been found in `params` and will be ignored.\\n'\n",
      "C:\\Users\\wnrrh\\anaconda3\\lib\\site-packages\\lightgbm\\basic.py:1513: UserWarning: categorical_feature in param dict is overridden.\n",
      "  _log_warning(f'{cat_alias} in param dict is overridden.')\n"
     ]
    }
   ],
   "source": [
    "# 최적의 하이퍼파라미터로 업데이트\n",
    "params['learning_rate'] = grid.best_params_['learning_rate']\n",
    "params['max_depth'] = grid.best_params_['max_depth']\n",
    "params['min_child_weight'] = grid.best_params_['min_child_weight']\n",
    "params['num_iterations'] = grid.best_params_['num_iteration']\n",
    "\n",
    "estimator_best = grid.best_estimator_\n",
    "\n",
    "y_pred_best = lgb_model_GS.fit(X_train,Y_train, categorical_feature = 'auto')"
   ]
  },
  {
   "cell_type": "code",
   "execution_count": 143,
   "id": "ccf1ba23",
   "metadata": {},
   "outputs": [
    {
     "name": "stdout",
     "output_type": "stream",
     "text": [
      "              precision    recall  f1-score   support\n",
      "\n",
      "         1.0       0.99      0.99      0.99      7117\n",
      "         2.0       0.55      0.62      0.58       129\n",
      "         3.0       0.00      0.00      0.00         2\n",
      "\n",
      "    accuracy                           0.98      7248\n",
      "   macro avg       0.51      0.54      0.53      7248\n",
      "weighted avg       0.99      0.98      0.98      7248\n",
      "\n"
     ]
    }
   ],
   "source": [
    "# 결과\n",
    "print(classification_report(Y_test, lgb_model_GS.predict(X_test)))"
   ]
  },
  {
   "cell_type": "code",
   "execution_count": 144,
   "id": "2fc7ed0f",
   "metadata": {
    "scrolled": false
   },
   "outputs": [
    {
     "name": "stdout",
     "output_type": "stream",
     "text": [
      "[LightGBM] [Warning] min_data_in_leaf is set with min_child_samples=20, will be overridden by min_data=50. Current value: min_data_in_leaf=50\n"
     ]
    },
    {
     "name": "stderr",
     "output_type": "stream",
     "text": [
      "C:\\Users\\wnrrh\\anaconda3\\lib\\site-packages\\lightgbm\\engine.py:177: UserWarning: Found `num_iterations` in params. Will use it instead of argument\n",
      "  _log_warning(f\"Found `{alias}` in params. Will use it instead of argument\")\n",
      "C:\\Users\\wnrrh\\anaconda3\\lib\\site-packages\\lightgbm\\basic.py:1487: UserWarning: categorical_feature keyword has been found in `params` and will be ignored.\n",
      "Please use categorical_feature argument of the Dataset constructor to pass this parameter.\n",
      "  _log_warning(f'{key} keyword has been found in `params` and will be ignored.\\n'\n",
      "C:\\Users\\wnrrh\\anaconda3\\lib\\site-packages\\lightgbm\\basic.py:1513: UserWarning: categorical_feature in param dict is overridden.\n",
      "  _log_warning(f'{cat_alias} in param dict is overridden.')\n",
      "C:\\Users\\wnrrh\\anaconda3\\lib\\site-packages\\lightgbm\\engine.py:177: UserWarning: Found `num_iterations` in params. Will use it instead of argument\n",
      "  _log_warning(f\"Found `{alias}` in params. Will use it instead of argument\")\n",
      "C:\\Users\\wnrrh\\anaconda3\\lib\\site-packages\\lightgbm\\basic.py:1487: UserWarning: categorical_feature keyword has been found in `params` and will be ignored.\n",
      "Please use categorical_feature argument of the Dataset constructor to pass this parameter.\n",
      "  _log_warning(f'{key} keyword has been found in `params` and will be ignored.\\n'\n",
      "C:\\Users\\wnrrh\\anaconda3\\lib\\site-packages\\lightgbm\\basic.py:1513: UserWarning: categorical_feature in param dict is overridden.\n",
      "  _log_warning(f'{cat_alias} in param dict is overridden.')\n"
     ]
    },
    {
     "name": "stdout",
     "output_type": "stream",
     "text": [
      "[LightGBM] [Warning] min_data_in_leaf is set with min_child_samples=20, will be overridden by min_data=50. Current value: min_data_in_leaf=50\n"
     ]
    },
    {
     "name": "stderr",
     "output_type": "stream",
     "text": [
      "C:\\Users\\wnrrh\\anaconda3\\lib\\site-packages\\lightgbm\\engine.py:177: UserWarning: Found `num_iterations` in params. Will use it instead of argument\n",
      "  _log_warning(f\"Found `{alias}` in params. Will use it instead of argument\")\n",
      "C:\\Users\\wnrrh\\anaconda3\\lib\\site-packages\\lightgbm\\basic.py:1487: UserWarning: categorical_feature keyword has been found in `params` and will be ignored.\n",
      "Please use categorical_feature argument of the Dataset constructor to pass this parameter.\n",
      "  _log_warning(f'{key} keyword has been found in `params` and will be ignored.\\n'\n",
      "C:\\Users\\wnrrh\\anaconda3\\lib\\site-packages\\lightgbm\\basic.py:1513: UserWarning: categorical_feature in param dict is overridden.\n",
      "  _log_warning(f'{cat_alias} in param dict is overridden.')\n"
     ]
    },
    {
     "name": "stdout",
     "output_type": "stream",
     "text": [
      "[LightGBM] [Warning] min_data_in_leaf is set with min_child_samples=20, will be overridden by min_data=50. Current value: min_data_in_leaf=50\n"
     ]
    },
    {
     "name": "stderr",
     "output_type": "stream",
     "text": [
      "C:\\Users\\wnrrh\\anaconda3\\lib\\site-packages\\lightgbm\\engine.py:177: UserWarning: Found `num_iterations` in params. Will use it instead of argument\n",
      "  _log_warning(f\"Found `{alias}` in params. Will use it instead of argument\")\n",
      "C:\\Users\\wnrrh\\anaconda3\\lib\\site-packages\\lightgbm\\basic.py:1487: UserWarning: categorical_feature keyword has been found in `params` and will be ignored.\n",
      "Please use categorical_feature argument of the Dataset constructor to pass this parameter.\n",
      "  _log_warning(f'{key} keyword has been found in `params` and will be ignored.\\n'\n",
      "C:\\Users\\wnrrh\\anaconda3\\lib\\site-packages\\lightgbm\\basic.py:1513: UserWarning: categorical_feature in param dict is overridden.\n",
      "  _log_warning(f'{cat_alias} in param dict is overridden.')\n"
     ]
    },
    {
     "name": "stdout",
     "output_type": "stream",
     "text": [
      "[LightGBM] [Warning] min_data_in_leaf is set with min_child_samples=20, will be overridden by min_data=50. Current value: min_data_in_leaf=50\n"
     ]
    },
    {
     "name": "stderr",
     "output_type": "stream",
     "text": [
      "C:\\Users\\wnrrh\\anaconda3\\lib\\site-packages\\lightgbm\\engine.py:177: UserWarning: Found `num_iterations` in params. Will use it instead of argument\n",
      "  _log_warning(f\"Found `{alias}` in params. Will use it instead of argument\")\n",
      "C:\\Users\\wnrrh\\anaconda3\\lib\\site-packages\\lightgbm\\basic.py:1487: UserWarning: categorical_feature keyword has been found in `params` and will be ignored.\n",
      "Please use categorical_feature argument of the Dataset constructor to pass this parameter.\n",
      "  _log_warning(f'{key} keyword has been found in `params` and will be ignored.\\n'\n",
      "C:\\Users\\wnrrh\\anaconda3\\lib\\site-packages\\lightgbm\\basic.py:1513: UserWarning: categorical_feature in param dict is overridden.\n",
      "  _log_warning(f'{cat_alias} in param dict is overridden.')\n"
     ]
    },
    {
     "name": "stdout",
     "output_type": "stream",
     "text": [
      "[LightGBM] [Warning] min_data_in_leaf is set with min_child_samples=20, will be overridden by min_data=50. Current value: min_data_in_leaf=50\n",
      "CV 정확도: 0.983 +/- 0.002\n"
     ]
    }
   ],
   "source": [
    "# 교차검증\n",
    "scores_lgb = cross_val_score(lgb_model_GS, X_train, Y_train, scoring='accuracy', cv=5)\n",
    "print('CV 정확도: %.3f +/- %.3f' % (np.mean(scores_lgb),np.std(scores_lgb)))"
   ]
  },
  {
   "cell_type": "code",
   "execution_count": 145,
   "id": "15f6d800",
   "metadata": {
    "scrolled": false
   },
   "outputs": [
    {
     "name": "stdout",
     "output_type": "stream",
     "text": [
      "The list of features with 0 importance: \n",
      "['고령자 피해 여부', '피해자교통수단탑승유무']\n",
      "The list of features with 0 importance: \n",
      "['고령자 피해 여부', '피해자교통수단탑승유무']\n"
     ]
    },
    {
     "data": {
      "image/png": "[encoded data removed]",
      "text/plain": [
       "<Figure size 576x720 with 1 Axes>"
      ]
     },
     "metadata": {
      "needs_background": "light"
     },
     "output_type": "display_data"
    },
    {
     "data": {
      "image/png": "[encoded data removed]",
      "text/plain": [
       "<Figure size 576x720 with 1 Axes>"
      ]
     },
     "metadata": {
      "needs_background": "light"
     },
     "output_type": "display_data"
    }
   ],
   "source": [
    "def display_importances(feature_importance_df_, doWorst=False, n_feat=50):\n",
    "\n",
    "    # 변수 중요도 그리기 \n",
    "    if not doWorst:\n",
    "        cols = feature_importance_df_[[\"feature\", \"importance\"]].groupby(\"feature\").mean().sort_values(\n",
    "            by=\"importance\", ascending=False)[:n_feat].index        \n",
    "    else:\n",
    "        cols = feature_importance_df_[[\"feature\", \"importance\"]].groupby(\"feature\").mean().sort_values(\n",
    "            by=\"importance\", ascending=False)[-n_feat:].index\n",
    "    \n",
    "    mean_imp = feature_importance_df_[[\"feature\", \"importance\"]].groupby(\"feature\").mean()\n",
    "\n",
    "    global df_2_neglect \n",
    "    df_2_neglect = mean_imp[mean_imp['importance'] < 1e-3]\n",
    "    print('The list of features with 0 importance: ')\n",
    "    print(df_2_neglect.index.values.tolist())\n",
    "    del mean_imp, df_2_neglect\n",
    "    \n",
    "    best_features = feature_importance_df_.loc[feature_importance_df_.feature.isin(cols)]\n",
    "    \n",
    "    plt.figure(figsize=(8,10))\n",
    "    sns.barplot(x=\"importance\", y=\"feature\", \n",
    "                data=best_features.sort_values(by=\"importance\", ascending=False))\n",
    "    plt.title('그리드서칭 LightGBM Features')\n",
    "    plt.tight_layout()\n",
    "    #plt.savefig('lgbm_importances.png')\n",
    "    \n",
    "importance_df = pd.DataFrame()\n",
    "importance_df[\"feature\"] = X_train.columns.tolist()      \n",
    "importance_df[\"importance\"] = lgb_model_GS.booster_.feature_importance('gain')\n",
    "display_importances(feature_importance_df_=importance_df, n_feat=20)\n",
    "\n",
    "# 변수 중요도 출력\n",
    "display_importances(feature_importance_df_=importance_df, doWorst=True, n_feat=20)"
   ]
  },
  {
   "cell_type": "code",
   "execution_count": null,
   "id": "6ab064de",
   "metadata": {},
   "outputs": [],
   "source": []
  },
  {
   "cell_type": "code",
   "execution_count": null,
   "id": "7e070024",
   "metadata": {},
   "outputs": [],
   "source": []
  },
  {
   "cell_type": "code",
   "execution_count": null,
   "id": "7f535ce5",
   "metadata": {},
   "outputs": [],
   "source": []
  }
 ],
 "metadata": {
  "kernelspec": {
   "display_name": "Python 3 (ipykernel)",
   "language": "python",
   "name": "python3"
  },
  "language_info": {
   "codemirror_mode": {
    "name": "ipython",
    "version": 3
   },
   "file_extension": ".py",
   "mimetype": "text/x-python",
   "name": "python",
   "nbconvert_exporter": "python",
   "pygments_lexer": "ipython3",
   "version": "3.8.12"
  }
 },
 "nbformat": 4,
 "nbformat_minor": 5
}
